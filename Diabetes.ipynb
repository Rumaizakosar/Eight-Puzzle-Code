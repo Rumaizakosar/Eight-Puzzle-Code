{
  "nbformat": 4,
  "nbformat_minor": 0,
  "metadata": {
    "colab": {
      "provenance": [],
      "authorship_tag": "ABX9TyOLt2jLqqMPNsRn0vjJGhz1",
      "include_colab_link": true
    },
    "kernelspec": {
      "name": "python3",
      "display_name": "Python 3"
    },
    "language_info": {
      "name": "python"
    }
  },
  "cells": [
    {
      "cell_type": "markdown",
      "metadata": {
        "id": "view-in-github",
        "colab_type": "text"
      },
      "source": [
        "<a href=\"https://colab.research.google.com/github/Rumaizakosar/Eight-Puzzle-Code/blob/main/Diabetes.ipynb\" target=\"_parent\"><img src=\"https://colab.research.google.com/assets/colab-badge.svg\" alt=\"Open In Colab\"/></a>"
      ]
    },
    {
      "cell_type": "code",
      "execution_count": null,
      "metadata": {
        "id": "obh7hZcyIJbw"
      },
      "outputs": [],
      "source": [
        "import pandas as pd\n",
        "import seaborn as sns"
      ]
    },
    {
      "cell_type": "code",
      "source": [
        "url = \"https://raw.githubusercontent.com/Rumaizakosar/Eight-Puzzle-Code/main/diabetes.csv\"\n",
        "DP = pd.read_csv(url)"
      ],
      "metadata": {
        "id": "QaB9kL-CIgml"
      },
      "execution_count": null,
      "outputs": []
    },
    {
      "cell_type": "code",
      "source": [
        "DP.shape"
      ],
      "metadata": {
        "colab": {
          "base_uri": "https://localhost:8080/"
        },
        "id": "6AjjQASKIpPz",
        "outputId": "68e9a361-426e-4333-9c31-4af255731fb0"
      },
      "execution_count": null,
      "outputs": [
        {
          "output_type": "execute_result",
          "data": {
            "text/plain": [
              "(768, 9)"
            ]
          },
          "metadata": {},
          "execution_count": 87
        }
      ]
    },
    {
      "cell_type": "code",
      "source": [
        "DP.head()\n"
      ],
      "metadata": {
        "colab": {
          "base_uri": "https://localhost:8080/",
          "height": 206
        },
        "id": "cRxs5dzYJdg8",
        "outputId": "399c060b-71fe-4695-cbc3-9c7d97360976"
      },
      "execution_count": null,
      "outputs": [
        {
          "output_type": "execute_result",
          "data": {
            "text/plain": [
              "   Pregnancies  Glucose  BloodPressure  SkinThickness  Insulin   BMI  \\\n",
              "0            6      148             72             35        0  33.6   \n",
              "1            1       85             66             29        0  26.6   \n",
              "2            8      183             64              0        0  23.3   \n",
              "3            1       89             66             23       94  28.1   \n",
              "4            0      137             40             35      168  43.1   \n",
              "\n",
              "   DiabetesPedigreeFunction  Age  Outcome  \n",
              "0                     0.627   50        1  \n",
              "1                     0.351   31        0  \n",
              "2                     0.672   32        1  \n",
              "3                     0.167   21        0  \n",
              "4                     2.288   33        1  "
            ],
            "text/html": [
              "\n",
              "  <div id=\"df-2998ab88-aac8-4758-bdd0-8dcc1f46d81e\" class=\"colab-df-container\">\n",
              "    <div>\n",
              "<style scoped>\n",
              "    .dataframe tbody tr th:only-of-type {\n",
              "        vertical-align: middle;\n",
              "    }\n",
              "\n",
              "    .dataframe tbody tr th {\n",
              "        vertical-align: top;\n",
              "    }\n",
              "\n",
              "    .dataframe thead th {\n",
              "        text-align: right;\n",
              "    }\n",
              "</style>\n",
              "<table border=\"1\" class=\"dataframe\">\n",
              "  <thead>\n",
              "    <tr style=\"text-align: right;\">\n",
              "      <th></th>\n",
              "      <th>Pregnancies</th>\n",
              "      <th>Glucose</th>\n",
              "      <th>BloodPressure</th>\n",
              "      <th>SkinThickness</th>\n",
              "      <th>Insulin</th>\n",
              "      <th>BMI</th>\n",
              "      <th>DiabetesPedigreeFunction</th>\n",
              "      <th>Age</th>\n",
              "      <th>Outcome</th>\n",
              "    </tr>\n",
              "  </thead>\n",
              "  <tbody>\n",
              "    <tr>\n",
              "      <th>0</th>\n",
              "      <td>6</td>\n",
              "      <td>148</td>\n",
              "      <td>72</td>\n",
              "      <td>35</td>\n",
              "      <td>0</td>\n",
              "      <td>33.6</td>\n",
              "      <td>0.627</td>\n",
              "      <td>50</td>\n",
              "      <td>1</td>\n",
              "    </tr>\n",
              "    <tr>\n",
              "      <th>1</th>\n",
              "      <td>1</td>\n",
              "      <td>85</td>\n",
              "      <td>66</td>\n",
              "      <td>29</td>\n",
              "      <td>0</td>\n",
              "      <td>26.6</td>\n",
              "      <td>0.351</td>\n",
              "      <td>31</td>\n",
              "      <td>0</td>\n",
              "    </tr>\n",
              "    <tr>\n",
              "      <th>2</th>\n",
              "      <td>8</td>\n",
              "      <td>183</td>\n",
              "      <td>64</td>\n",
              "      <td>0</td>\n",
              "      <td>0</td>\n",
              "      <td>23.3</td>\n",
              "      <td>0.672</td>\n",
              "      <td>32</td>\n",
              "      <td>1</td>\n",
              "    </tr>\n",
              "    <tr>\n",
              "      <th>3</th>\n",
              "      <td>1</td>\n",
              "      <td>89</td>\n",
              "      <td>66</td>\n",
              "      <td>23</td>\n",
              "      <td>94</td>\n",
              "      <td>28.1</td>\n",
              "      <td>0.167</td>\n",
              "      <td>21</td>\n",
              "      <td>0</td>\n",
              "    </tr>\n",
              "    <tr>\n",
              "      <th>4</th>\n",
              "      <td>0</td>\n",
              "      <td>137</td>\n",
              "      <td>40</td>\n",
              "      <td>35</td>\n",
              "      <td>168</td>\n",
              "      <td>43.1</td>\n",
              "      <td>2.288</td>\n",
              "      <td>33</td>\n",
              "      <td>1</td>\n",
              "    </tr>\n",
              "  </tbody>\n",
              "</table>\n",
              "</div>\n",
              "    <div class=\"colab-df-buttons\">\n",
              "\n",
              "  <div class=\"colab-df-container\">\n",
              "    <button class=\"colab-df-convert\" onclick=\"convertToInteractive('df-2998ab88-aac8-4758-bdd0-8dcc1f46d81e')\"\n",
              "            title=\"Convert this dataframe to an interactive table.\"\n",
              "            style=\"display:none;\">\n",
              "\n",
              "  <svg xmlns=\"http://www.w3.org/2000/svg\" height=\"24px\" viewBox=\"0 -960 960 960\">\n",
              "    <path d=\"M120-120v-720h720v720H120Zm60-500h600v-160H180v160Zm220 220h160v-160H400v160Zm0 220h160v-160H400v160ZM180-400h160v-160H180v160Zm440 0h160v-160H620v160ZM180-180h160v-160H180v160Zm440 0h160v-160H620v160Z\"/>\n",
              "  </svg>\n",
              "    </button>\n",
              "\n",
              "  <style>\n",
              "    .colab-df-container {\n",
              "      display:flex;\n",
              "      gap: 12px;\n",
              "    }\n",
              "\n",
              "    .colab-df-convert {\n",
              "      background-color: #E8F0FE;\n",
              "      border: none;\n",
              "      border-radius: 50%;\n",
              "      cursor: pointer;\n",
              "      display: none;\n",
              "      fill: #1967D2;\n",
              "      height: 32px;\n",
              "      padding: 0 0 0 0;\n",
              "      width: 32px;\n",
              "    }\n",
              "\n",
              "    .colab-df-convert:hover {\n",
              "      background-color: #E2EBFA;\n",
              "      box-shadow: 0px 1px 2px rgba(60, 64, 67, 0.3), 0px 1px 3px 1px rgba(60, 64, 67, 0.15);\n",
              "      fill: #174EA6;\n",
              "    }\n",
              "\n",
              "    .colab-df-buttons div {\n",
              "      margin-bottom: 4px;\n",
              "    }\n",
              "\n",
              "    [theme=dark] .colab-df-convert {\n",
              "      background-color: #3B4455;\n",
              "      fill: #D2E3FC;\n",
              "    }\n",
              "\n",
              "    [theme=dark] .colab-df-convert:hover {\n",
              "      background-color: #434B5C;\n",
              "      box-shadow: 0px 1px 3px 1px rgba(0, 0, 0, 0.15);\n",
              "      filter: drop-shadow(0px 1px 2px rgba(0, 0, 0, 0.3));\n",
              "      fill: #FFFFFF;\n",
              "    }\n",
              "  </style>\n",
              "\n",
              "    <script>\n",
              "      const buttonEl =\n",
              "        document.querySelector('#df-2998ab88-aac8-4758-bdd0-8dcc1f46d81e button.colab-df-convert');\n",
              "      buttonEl.style.display =\n",
              "        google.colab.kernel.accessAllowed ? 'block' : 'none';\n",
              "\n",
              "      async function convertToInteractive(key) {\n",
              "        const element = document.querySelector('#df-2998ab88-aac8-4758-bdd0-8dcc1f46d81e');\n",
              "        const dataTable =\n",
              "          await google.colab.kernel.invokeFunction('convertToInteractive',\n",
              "                                                    [key], {});\n",
              "        if (!dataTable) return;\n",
              "\n",
              "        const docLinkHtml = 'Like what you see? Visit the ' +\n",
              "          '<a target=\"_blank\" href=https://colab.research.google.com/notebooks/data_table.ipynb>data table notebook</a>'\n",
              "          + ' to learn more about interactive tables.';\n",
              "        element.innerHTML = '';\n",
              "        dataTable['output_type'] = 'display_data';\n",
              "        await google.colab.output.renderOutput(dataTable, element);\n",
              "        const docLink = document.createElement('div');\n",
              "        docLink.innerHTML = docLinkHtml;\n",
              "        element.appendChild(docLink);\n",
              "      }\n",
              "    </script>\n",
              "  </div>\n",
              "\n",
              "\n",
              "<div id=\"df-0a87c63b-d129-4031-aba2-76f5291a3c5f\">\n",
              "  <button class=\"colab-df-quickchart\" onclick=\"quickchart('df-0a87c63b-d129-4031-aba2-76f5291a3c5f')\"\n",
              "            title=\"Suggest charts\"\n",
              "            style=\"display:none;\">\n",
              "\n",
              "<svg xmlns=\"http://www.w3.org/2000/svg\" height=\"24px\"viewBox=\"0 0 24 24\"\n",
              "     width=\"24px\">\n",
              "    <g>\n",
              "        <path d=\"M19 3H5c-1.1 0-2 .9-2 2v14c0 1.1.9 2 2 2h14c1.1 0 2-.9 2-2V5c0-1.1-.9-2-2-2zM9 17H7v-7h2v7zm4 0h-2V7h2v10zm4 0h-2v-4h2v4z\"/>\n",
              "    </g>\n",
              "</svg>\n",
              "  </button>\n",
              "\n",
              "<style>\n",
              "  .colab-df-quickchart {\n",
              "      --bg-color: #E8F0FE;\n",
              "      --fill-color: #1967D2;\n",
              "      --hover-bg-color: #E2EBFA;\n",
              "      --hover-fill-color: #174EA6;\n",
              "      --disabled-fill-color: #AAA;\n",
              "      --disabled-bg-color: #DDD;\n",
              "  }\n",
              "\n",
              "  [theme=dark] .colab-df-quickchart {\n",
              "      --bg-color: #3B4455;\n",
              "      --fill-color: #D2E3FC;\n",
              "      --hover-bg-color: #434B5C;\n",
              "      --hover-fill-color: #FFFFFF;\n",
              "      --disabled-bg-color: #3B4455;\n",
              "      --disabled-fill-color: #666;\n",
              "  }\n",
              "\n",
              "  .colab-df-quickchart {\n",
              "    background-color: var(--bg-color);\n",
              "    border: none;\n",
              "    border-radius: 50%;\n",
              "    cursor: pointer;\n",
              "    display: none;\n",
              "    fill: var(--fill-color);\n",
              "    height: 32px;\n",
              "    padding: 0;\n",
              "    width: 32px;\n",
              "  }\n",
              "\n",
              "  .colab-df-quickchart:hover {\n",
              "    background-color: var(--hover-bg-color);\n",
              "    box-shadow: 0 1px 2px rgba(60, 64, 67, 0.3), 0 1px 3px 1px rgba(60, 64, 67, 0.15);\n",
              "    fill: var(--button-hover-fill-color);\n",
              "  }\n",
              "\n",
              "  .colab-df-quickchart-complete:disabled,\n",
              "  .colab-df-quickchart-complete:disabled:hover {\n",
              "    background-color: var(--disabled-bg-color);\n",
              "    fill: var(--disabled-fill-color);\n",
              "    box-shadow: none;\n",
              "  }\n",
              "\n",
              "  .colab-df-spinner {\n",
              "    border: 2px solid var(--fill-color);\n",
              "    border-color: transparent;\n",
              "    border-bottom-color: var(--fill-color);\n",
              "    animation:\n",
              "      spin 1s steps(1) infinite;\n",
              "  }\n",
              "\n",
              "  @keyframes spin {\n",
              "    0% {\n",
              "      border-color: transparent;\n",
              "      border-bottom-color: var(--fill-color);\n",
              "      border-left-color: var(--fill-color);\n",
              "    }\n",
              "    20% {\n",
              "      border-color: transparent;\n",
              "      border-left-color: var(--fill-color);\n",
              "      border-top-color: var(--fill-color);\n",
              "    }\n",
              "    30% {\n",
              "      border-color: transparent;\n",
              "      border-left-color: var(--fill-color);\n",
              "      border-top-color: var(--fill-color);\n",
              "      border-right-color: var(--fill-color);\n",
              "    }\n",
              "    40% {\n",
              "      border-color: transparent;\n",
              "      border-right-color: var(--fill-color);\n",
              "      border-top-color: var(--fill-color);\n",
              "    }\n",
              "    60% {\n",
              "      border-color: transparent;\n",
              "      border-right-color: var(--fill-color);\n",
              "    }\n",
              "    80% {\n",
              "      border-color: transparent;\n",
              "      border-right-color: var(--fill-color);\n",
              "      border-bottom-color: var(--fill-color);\n",
              "    }\n",
              "    90% {\n",
              "      border-color: transparent;\n",
              "      border-bottom-color: var(--fill-color);\n",
              "    }\n",
              "  }\n",
              "</style>\n",
              "\n",
              "  <script>\n",
              "    async function quickchart(key) {\n",
              "      const quickchartButtonEl =\n",
              "        document.querySelector('#' + key + ' button');\n",
              "      quickchartButtonEl.disabled = true;  // To prevent multiple clicks.\n",
              "      quickchartButtonEl.classList.add('colab-df-spinner');\n",
              "      try {\n",
              "        const charts = await google.colab.kernel.invokeFunction(\n",
              "            'suggestCharts', [key], {});\n",
              "      } catch (error) {\n",
              "        console.error('Error during call to suggestCharts:', error);\n",
              "      }\n",
              "      quickchartButtonEl.classList.remove('colab-df-spinner');\n",
              "      quickchartButtonEl.classList.add('colab-df-quickchart-complete');\n",
              "    }\n",
              "    (() => {\n",
              "      let quickchartButtonEl =\n",
              "        document.querySelector('#df-0a87c63b-d129-4031-aba2-76f5291a3c5f button');\n",
              "      quickchartButtonEl.style.display =\n",
              "        google.colab.kernel.accessAllowed ? 'block' : 'none';\n",
              "    })();\n",
              "  </script>\n",
              "</div>\n",
              "\n",
              "    </div>\n",
              "  </div>\n"
            ],
            "application/vnd.google.colaboratory.intrinsic+json": {
              "type": "dataframe",
              "variable_name": "DP",
              "summary": "{\n  \"name\": \"DP\",\n  \"rows\": 768,\n  \"fields\": [\n    {\n      \"column\": \"Pregnancies\",\n      \"properties\": {\n        \"dtype\": \"number\",\n        \"std\": 3,\n        \"min\": 0,\n        \"max\": 17,\n        \"num_unique_values\": 17,\n        \"samples\": [\n          6,\n          1,\n          3\n        ],\n        \"semantic_type\": \"\",\n        \"description\": \"\"\n      }\n    },\n    {\n      \"column\": \"Glucose\",\n      \"properties\": {\n        \"dtype\": \"number\",\n        \"std\": 31,\n        \"min\": 0,\n        \"max\": 199,\n        \"num_unique_values\": 136,\n        \"samples\": [\n          151,\n          101,\n          112\n        ],\n        \"semantic_type\": \"\",\n        \"description\": \"\"\n      }\n    },\n    {\n      \"column\": \"BloodPressure\",\n      \"properties\": {\n        \"dtype\": \"number\",\n        \"std\": 19,\n        \"min\": 0,\n        \"max\": 122,\n        \"num_unique_values\": 47,\n        \"samples\": [\n          86,\n          46,\n          85\n        ],\n        \"semantic_type\": \"\",\n        \"description\": \"\"\n      }\n    },\n    {\n      \"column\": \"SkinThickness\",\n      \"properties\": {\n        \"dtype\": \"number\",\n        \"std\": 15,\n        \"min\": 0,\n        \"max\": 99,\n        \"num_unique_values\": 51,\n        \"samples\": [\n          7,\n          12,\n          48\n        ],\n        \"semantic_type\": \"\",\n        \"description\": \"\"\n      }\n    },\n    {\n      \"column\": \"Insulin\",\n      \"properties\": {\n        \"dtype\": \"number\",\n        \"std\": 115,\n        \"min\": 0,\n        \"max\": 846,\n        \"num_unique_values\": 186,\n        \"samples\": [\n          52,\n          41,\n          183\n        ],\n        \"semantic_type\": \"\",\n        \"description\": \"\"\n      }\n    },\n    {\n      \"column\": \"BMI\",\n      \"properties\": {\n        \"dtype\": \"number\",\n        \"std\": 7.884160320375446,\n        \"min\": 0.0,\n        \"max\": 67.1,\n        \"num_unique_values\": 248,\n        \"samples\": [\n          19.9,\n          31.0,\n          38.1\n        ],\n        \"semantic_type\": \"\",\n        \"description\": \"\"\n      }\n    },\n    {\n      \"column\": \"DiabetesPedigreeFunction\",\n      \"properties\": {\n        \"dtype\": \"number\",\n        \"std\": 0.3313285950127749,\n        \"min\": 0.078,\n        \"max\": 2.42,\n        \"num_unique_values\": 517,\n        \"samples\": [\n          1.731,\n          0.426,\n          0.138\n        ],\n        \"semantic_type\": \"\",\n        \"description\": \"\"\n      }\n    },\n    {\n      \"column\": \"Age\",\n      \"properties\": {\n        \"dtype\": \"number\",\n        \"std\": 11,\n        \"min\": 21,\n        \"max\": 81,\n        \"num_unique_values\": 52,\n        \"samples\": [\n          60,\n          47,\n          72\n        ],\n        \"semantic_type\": \"\",\n        \"description\": \"\"\n      }\n    },\n    {\n      \"column\": \"Outcome\",\n      \"properties\": {\n        \"dtype\": \"number\",\n        \"std\": 0,\n        \"min\": 0,\n        \"max\": 1,\n        \"num_unique_values\": 2,\n        \"samples\": [\n          0,\n          1\n        ],\n        \"semantic_type\": \"\",\n        \"description\": \"\"\n      }\n    }\n  ]\n}"
            }
          },
          "metadata": {},
          "execution_count": 88
        }
      ]
    },
    {
      "cell_type": "code",
      "source": [
        "DP.columns"
      ],
      "metadata": {
        "colab": {
          "base_uri": "https://localhost:8080/"
        },
        "id": "4dgmZW6qKKrs",
        "outputId": "248bc3f8-706e-48d5-81f8-0df9a5f4a05d"
      },
      "execution_count": null,
      "outputs": [
        {
          "output_type": "execute_result",
          "data": {
            "text/plain": [
              "Index(['Pregnancies', 'Glucose', 'BloodPressure', 'SkinThickness', 'Insulin',\n",
              "       'BMI', 'DiabetesPedigreeFunction', 'Age', 'Outcome'],\n",
              "      dtype='object')"
            ]
          },
          "metadata": {},
          "execution_count": 89
        }
      ]
    },
    {
      "cell_type": "code",
      "source": [
        "DP.dtypes"
      ],
      "metadata": {
        "colab": {
          "base_uri": "https://localhost:8080/"
        },
        "id": "CwH5HbFNKODT",
        "outputId": "538a37a4-d176-4f74-b70c-dc590c88e936"
      },
      "execution_count": null,
      "outputs": [
        {
          "output_type": "execute_result",
          "data": {
            "text/plain": [
              "Pregnancies                   int64\n",
              "Glucose                       int64\n",
              "BloodPressure                 int64\n",
              "SkinThickness                 int64\n",
              "Insulin                       int64\n",
              "BMI                         float64\n",
              "DiabetesPedigreeFunction    float64\n",
              "Age                           int64\n",
              "Outcome                       int64\n",
              "dtype: object"
            ]
          },
          "metadata": {},
          "execution_count": 90
        }
      ]
    },
    {
      "cell_type": "code",
      "source": [
        "DP.describe()"
      ],
      "metadata": {
        "colab": {
          "base_uri": "https://localhost:8080/",
          "height": 300
        },
        "id": "bHaz6lBqKQtd",
        "outputId": "73166ae4-7054-445e-b28d-f3ca770ba0ed"
      },
      "execution_count": null,
      "outputs": [
        {
          "output_type": "execute_result",
          "data": {
            "text/plain": [
              "       Pregnancies     Glucose  BloodPressure  SkinThickness     Insulin  \\\n",
              "count   768.000000  768.000000     768.000000     768.000000  768.000000   \n",
              "mean      3.845052  120.894531      69.105469      20.536458   79.799479   \n",
              "std       3.369578   31.972618      19.355807      15.952218  115.244002   \n",
              "min       0.000000    0.000000       0.000000       0.000000    0.000000   \n",
              "25%       1.000000   99.000000      62.000000       0.000000    0.000000   \n",
              "50%       3.000000  117.000000      72.000000      23.000000   30.500000   \n",
              "75%       6.000000  140.250000      80.000000      32.000000  127.250000   \n",
              "max      17.000000  199.000000     122.000000      99.000000  846.000000   \n",
              "\n",
              "              BMI  DiabetesPedigreeFunction         Age     Outcome  \n",
              "count  768.000000                768.000000  768.000000  768.000000  \n",
              "mean    31.992578                  0.471876   33.240885    0.348958  \n",
              "std      7.884160                  0.331329   11.760232    0.476951  \n",
              "min      0.000000                  0.078000   21.000000    0.000000  \n",
              "25%     27.300000                  0.243750   24.000000    0.000000  \n",
              "50%     32.000000                  0.372500   29.000000    0.000000  \n",
              "75%     36.600000                  0.626250   41.000000    1.000000  \n",
              "max     67.100000                  2.420000   81.000000    1.000000  "
            ],
            "text/html": [
              "\n",
              "  <div id=\"df-e9992b79-ac94-4f26-aecd-a2650cc74bf9\" class=\"colab-df-container\">\n",
              "    <div>\n",
              "<style scoped>\n",
              "    .dataframe tbody tr th:only-of-type {\n",
              "        vertical-align: middle;\n",
              "    }\n",
              "\n",
              "    .dataframe tbody tr th {\n",
              "        vertical-align: top;\n",
              "    }\n",
              "\n",
              "    .dataframe thead th {\n",
              "        text-align: right;\n",
              "    }\n",
              "</style>\n",
              "<table border=\"1\" class=\"dataframe\">\n",
              "  <thead>\n",
              "    <tr style=\"text-align: right;\">\n",
              "      <th></th>\n",
              "      <th>Pregnancies</th>\n",
              "      <th>Glucose</th>\n",
              "      <th>BloodPressure</th>\n",
              "      <th>SkinThickness</th>\n",
              "      <th>Insulin</th>\n",
              "      <th>BMI</th>\n",
              "      <th>DiabetesPedigreeFunction</th>\n",
              "      <th>Age</th>\n",
              "      <th>Outcome</th>\n",
              "    </tr>\n",
              "  </thead>\n",
              "  <tbody>\n",
              "    <tr>\n",
              "      <th>count</th>\n",
              "      <td>768.000000</td>\n",
              "      <td>768.000000</td>\n",
              "      <td>768.000000</td>\n",
              "      <td>768.000000</td>\n",
              "      <td>768.000000</td>\n",
              "      <td>768.000000</td>\n",
              "      <td>768.000000</td>\n",
              "      <td>768.000000</td>\n",
              "      <td>768.000000</td>\n",
              "    </tr>\n",
              "    <tr>\n",
              "      <th>mean</th>\n",
              "      <td>3.845052</td>\n",
              "      <td>120.894531</td>\n",
              "      <td>69.105469</td>\n",
              "      <td>20.536458</td>\n",
              "      <td>79.799479</td>\n",
              "      <td>31.992578</td>\n",
              "      <td>0.471876</td>\n",
              "      <td>33.240885</td>\n",
              "      <td>0.348958</td>\n",
              "    </tr>\n",
              "    <tr>\n",
              "      <th>std</th>\n",
              "      <td>3.369578</td>\n",
              "      <td>31.972618</td>\n",
              "      <td>19.355807</td>\n",
              "      <td>15.952218</td>\n",
              "      <td>115.244002</td>\n",
              "      <td>7.884160</td>\n",
              "      <td>0.331329</td>\n",
              "      <td>11.760232</td>\n",
              "      <td>0.476951</td>\n",
              "    </tr>\n",
              "    <tr>\n",
              "      <th>min</th>\n",
              "      <td>0.000000</td>\n",
              "      <td>0.000000</td>\n",
              "      <td>0.000000</td>\n",
              "      <td>0.000000</td>\n",
              "      <td>0.000000</td>\n",
              "      <td>0.000000</td>\n",
              "      <td>0.078000</td>\n",
              "      <td>21.000000</td>\n",
              "      <td>0.000000</td>\n",
              "    </tr>\n",
              "    <tr>\n",
              "      <th>25%</th>\n",
              "      <td>1.000000</td>\n",
              "      <td>99.000000</td>\n",
              "      <td>62.000000</td>\n",
              "      <td>0.000000</td>\n",
              "      <td>0.000000</td>\n",
              "      <td>27.300000</td>\n",
              "      <td>0.243750</td>\n",
              "      <td>24.000000</td>\n",
              "      <td>0.000000</td>\n",
              "    </tr>\n",
              "    <tr>\n",
              "      <th>50%</th>\n",
              "      <td>3.000000</td>\n",
              "      <td>117.000000</td>\n",
              "      <td>72.000000</td>\n",
              "      <td>23.000000</td>\n",
              "      <td>30.500000</td>\n",
              "      <td>32.000000</td>\n",
              "      <td>0.372500</td>\n",
              "      <td>29.000000</td>\n",
              "      <td>0.000000</td>\n",
              "    </tr>\n",
              "    <tr>\n",
              "      <th>75%</th>\n",
              "      <td>6.000000</td>\n",
              "      <td>140.250000</td>\n",
              "      <td>80.000000</td>\n",
              "      <td>32.000000</td>\n",
              "      <td>127.250000</td>\n",
              "      <td>36.600000</td>\n",
              "      <td>0.626250</td>\n",
              "      <td>41.000000</td>\n",
              "      <td>1.000000</td>\n",
              "    </tr>\n",
              "    <tr>\n",
              "      <th>max</th>\n",
              "      <td>17.000000</td>\n",
              "      <td>199.000000</td>\n",
              "      <td>122.000000</td>\n",
              "      <td>99.000000</td>\n",
              "      <td>846.000000</td>\n",
              "      <td>67.100000</td>\n",
              "      <td>2.420000</td>\n",
              "      <td>81.000000</td>\n",
              "      <td>1.000000</td>\n",
              "    </tr>\n",
              "  </tbody>\n",
              "</table>\n",
              "</div>\n",
              "    <div class=\"colab-df-buttons\">\n",
              "\n",
              "  <div class=\"colab-df-container\">\n",
              "    <button class=\"colab-df-convert\" onclick=\"convertToInteractive('df-e9992b79-ac94-4f26-aecd-a2650cc74bf9')\"\n",
              "            title=\"Convert this dataframe to an interactive table.\"\n",
              "            style=\"display:none;\">\n",
              "\n",
              "  <svg xmlns=\"http://www.w3.org/2000/svg\" height=\"24px\" viewBox=\"0 -960 960 960\">\n",
              "    <path d=\"M120-120v-720h720v720H120Zm60-500h600v-160H180v160Zm220 220h160v-160H400v160Zm0 220h160v-160H400v160ZM180-400h160v-160H180v160Zm440 0h160v-160H620v160ZM180-180h160v-160H180v160Zm440 0h160v-160H620v160Z\"/>\n",
              "  </svg>\n",
              "    </button>\n",
              "\n",
              "  <style>\n",
              "    .colab-df-container {\n",
              "      display:flex;\n",
              "      gap: 12px;\n",
              "    }\n",
              "\n",
              "    .colab-df-convert {\n",
              "      background-color: #E8F0FE;\n",
              "      border: none;\n",
              "      border-radius: 50%;\n",
              "      cursor: pointer;\n",
              "      display: none;\n",
              "      fill: #1967D2;\n",
              "      height: 32px;\n",
              "      padding: 0 0 0 0;\n",
              "      width: 32px;\n",
              "    }\n",
              "\n",
              "    .colab-df-convert:hover {\n",
              "      background-color: #E2EBFA;\n",
              "      box-shadow: 0px 1px 2px rgba(60, 64, 67, 0.3), 0px 1px 3px 1px rgba(60, 64, 67, 0.15);\n",
              "      fill: #174EA6;\n",
              "    }\n",
              "\n",
              "    .colab-df-buttons div {\n",
              "      margin-bottom: 4px;\n",
              "    }\n",
              "\n",
              "    [theme=dark] .colab-df-convert {\n",
              "      background-color: #3B4455;\n",
              "      fill: #D2E3FC;\n",
              "    }\n",
              "\n",
              "    [theme=dark] .colab-df-convert:hover {\n",
              "      background-color: #434B5C;\n",
              "      box-shadow: 0px 1px 3px 1px rgba(0, 0, 0, 0.15);\n",
              "      filter: drop-shadow(0px 1px 2px rgba(0, 0, 0, 0.3));\n",
              "      fill: #FFFFFF;\n",
              "    }\n",
              "  </style>\n",
              "\n",
              "    <script>\n",
              "      const buttonEl =\n",
              "        document.querySelector('#df-e9992b79-ac94-4f26-aecd-a2650cc74bf9 button.colab-df-convert');\n",
              "      buttonEl.style.display =\n",
              "        google.colab.kernel.accessAllowed ? 'block' : 'none';\n",
              "\n",
              "      async function convertToInteractive(key) {\n",
              "        const element = document.querySelector('#df-e9992b79-ac94-4f26-aecd-a2650cc74bf9');\n",
              "        const dataTable =\n",
              "          await google.colab.kernel.invokeFunction('convertToInteractive',\n",
              "                                                    [key], {});\n",
              "        if (!dataTable) return;\n",
              "\n",
              "        const docLinkHtml = 'Like what you see? Visit the ' +\n",
              "          '<a target=\"_blank\" href=https://colab.research.google.com/notebooks/data_table.ipynb>data table notebook</a>'\n",
              "          + ' to learn more about interactive tables.';\n",
              "        element.innerHTML = '';\n",
              "        dataTable['output_type'] = 'display_data';\n",
              "        await google.colab.output.renderOutput(dataTable, element);\n",
              "        const docLink = document.createElement('div');\n",
              "        docLink.innerHTML = docLinkHtml;\n",
              "        element.appendChild(docLink);\n",
              "      }\n",
              "    </script>\n",
              "  </div>\n",
              "\n",
              "\n",
              "<div id=\"df-b78227ae-9a56-4364-838b-9ae154e1d45e\">\n",
              "  <button class=\"colab-df-quickchart\" onclick=\"quickchart('df-b78227ae-9a56-4364-838b-9ae154e1d45e')\"\n",
              "            title=\"Suggest charts\"\n",
              "            style=\"display:none;\">\n",
              "\n",
              "<svg xmlns=\"http://www.w3.org/2000/svg\" height=\"24px\"viewBox=\"0 0 24 24\"\n",
              "     width=\"24px\">\n",
              "    <g>\n",
              "        <path d=\"M19 3H5c-1.1 0-2 .9-2 2v14c0 1.1.9 2 2 2h14c1.1 0 2-.9 2-2V5c0-1.1-.9-2-2-2zM9 17H7v-7h2v7zm4 0h-2V7h2v10zm4 0h-2v-4h2v4z\"/>\n",
              "    </g>\n",
              "</svg>\n",
              "  </button>\n",
              "\n",
              "<style>\n",
              "  .colab-df-quickchart {\n",
              "      --bg-color: #E8F0FE;\n",
              "      --fill-color: #1967D2;\n",
              "      --hover-bg-color: #E2EBFA;\n",
              "      --hover-fill-color: #174EA6;\n",
              "      --disabled-fill-color: #AAA;\n",
              "      --disabled-bg-color: #DDD;\n",
              "  }\n",
              "\n",
              "  [theme=dark] .colab-df-quickchart {\n",
              "      --bg-color: #3B4455;\n",
              "      --fill-color: #D2E3FC;\n",
              "      --hover-bg-color: #434B5C;\n",
              "      --hover-fill-color: #FFFFFF;\n",
              "      --disabled-bg-color: #3B4455;\n",
              "      --disabled-fill-color: #666;\n",
              "  }\n",
              "\n",
              "  .colab-df-quickchart {\n",
              "    background-color: var(--bg-color);\n",
              "    border: none;\n",
              "    border-radius: 50%;\n",
              "    cursor: pointer;\n",
              "    display: none;\n",
              "    fill: var(--fill-color);\n",
              "    height: 32px;\n",
              "    padding: 0;\n",
              "    width: 32px;\n",
              "  }\n",
              "\n",
              "  .colab-df-quickchart:hover {\n",
              "    background-color: var(--hover-bg-color);\n",
              "    box-shadow: 0 1px 2px rgba(60, 64, 67, 0.3), 0 1px 3px 1px rgba(60, 64, 67, 0.15);\n",
              "    fill: var(--button-hover-fill-color);\n",
              "  }\n",
              "\n",
              "  .colab-df-quickchart-complete:disabled,\n",
              "  .colab-df-quickchart-complete:disabled:hover {\n",
              "    background-color: var(--disabled-bg-color);\n",
              "    fill: var(--disabled-fill-color);\n",
              "    box-shadow: none;\n",
              "  }\n",
              "\n",
              "  .colab-df-spinner {\n",
              "    border: 2px solid var(--fill-color);\n",
              "    border-color: transparent;\n",
              "    border-bottom-color: var(--fill-color);\n",
              "    animation:\n",
              "      spin 1s steps(1) infinite;\n",
              "  }\n",
              "\n",
              "  @keyframes spin {\n",
              "    0% {\n",
              "      border-color: transparent;\n",
              "      border-bottom-color: var(--fill-color);\n",
              "      border-left-color: var(--fill-color);\n",
              "    }\n",
              "    20% {\n",
              "      border-color: transparent;\n",
              "      border-left-color: var(--fill-color);\n",
              "      border-top-color: var(--fill-color);\n",
              "    }\n",
              "    30% {\n",
              "      border-color: transparent;\n",
              "      border-left-color: var(--fill-color);\n",
              "      border-top-color: var(--fill-color);\n",
              "      border-right-color: var(--fill-color);\n",
              "    }\n",
              "    40% {\n",
              "      border-color: transparent;\n",
              "      border-right-color: var(--fill-color);\n",
              "      border-top-color: var(--fill-color);\n",
              "    }\n",
              "    60% {\n",
              "      border-color: transparent;\n",
              "      border-right-color: var(--fill-color);\n",
              "    }\n",
              "    80% {\n",
              "      border-color: transparent;\n",
              "      border-right-color: var(--fill-color);\n",
              "      border-bottom-color: var(--fill-color);\n",
              "    }\n",
              "    90% {\n",
              "      border-color: transparent;\n",
              "      border-bottom-color: var(--fill-color);\n",
              "    }\n",
              "  }\n",
              "</style>\n",
              "\n",
              "  <script>\n",
              "    async function quickchart(key) {\n",
              "      const quickchartButtonEl =\n",
              "        document.querySelector('#' + key + ' button');\n",
              "      quickchartButtonEl.disabled = true;  // To prevent multiple clicks.\n",
              "      quickchartButtonEl.classList.add('colab-df-spinner');\n",
              "      try {\n",
              "        const charts = await google.colab.kernel.invokeFunction(\n",
              "            'suggestCharts', [key], {});\n",
              "      } catch (error) {\n",
              "        console.error('Error during call to suggestCharts:', error);\n",
              "      }\n",
              "      quickchartButtonEl.classList.remove('colab-df-spinner');\n",
              "      quickchartButtonEl.classList.add('colab-df-quickchart-complete');\n",
              "    }\n",
              "    (() => {\n",
              "      let quickchartButtonEl =\n",
              "        document.querySelector('#df-b78227ae-9a56-4364-838b-9ae154e1d45e button');\n",
              "      quickchartButtonEl.style.display =\n",
              "        google.colab.kernel.accessAllowed ? 'block' : 'none';\n",
              "    })();\n",
              "  </script>\n",
              "</div>\n",
              "\n",
              "    </div>\n",
              "  </div>\n"
            ],
            "application/vnd.google.colaboratory.intrinsic+json": {
              "type": "dataframe",
              "summary": "{\n  \"name\": \"DP\",\n  \"rows\": 8,\n  \"fields\": [\n    {\n      \"column\": \"Pregnancies\",\n      \"properties\": {\n        \"dtype\": \"number\",\n        \"std\": 269.85223453356366,\n        \"min\": 0.0,\n        \"max\": 768.0,\n        \"num_unique_values\": 8,\n        \"samples\": [\n          3.8450520833333335,\n          3.0,\n          768.0\n        ],\n        \"semantic_type\": \"\",\n        \"description\": \"\"\n      }\n    },\n    {\n      \"column\": \"Glucose\",\n      \"properties\": {\n        \"dtype\": \"number\",\n        \"std\": 243.73802348295857,\n        \"min\": 0.0,\n        \"max\": 768.0,\n        \"num_unique_values\": 8,\n        \"samples\": [\n          120.89453125,\n          117.0,\n          768.0\n        ],\n        \"semantic_type\": \"\",\n        \"description\": \"\"\n      }\n    },\n    {\n      \"column\": \"BloodPressure\",\n      \"properties\": {\n        \"dtype\": \"number\",\n        \"std\": 252.8525053581062,\n        \"min\": 0.0,\n        \"max\": 768.0,\n        \"num_unique_values\": 8,\n        \"samples\": [\n          69.10546875,\n          72.0,\n          768.0\n        ],\n        \"semantic_type\": \"\",\n        \"description\": \"\"\n      }\n    },\n    {\n      \"column\": \"SkinThickness\",\n      \"properties\": {\n        \"dtype\": \"number\",\n        \"std\": 263.7684730531098,\n        \"min\": 0.0,\n        \"max\": 768.0,\n        \"num_unique_values\": 7,\n        \"samples\": [\n          768.0,\n          20.536458333333332,\n          32.0\n        ],\n        \"semantic_type\": \"\",\n        \"description\": \"\"\n      }\n    },\n    {\n      \"column\": \"Insulin\",\n      \"properties\": {\n        \"dtype\": \"number\",\n        \"std\": 350.26059167945886,\n        \"min\": 0.0,\n        \"max\": 846.0,\n        \"num_unique_values\": 7,\n        \"samples\": [\n          768.0,\n          79.79947916666667,\n          127.25\n        ],\n        \"semantic_type\": \"\",\n        \"description\": \"\"\n      }\n    },\n    {\n      \"column\": \"BMI\",\n      \"properties\": {\n        \"dtype\": \"number\",\n        \"std\": 262.05117817552093,\n        \"min\": 0.0,\n        \"max\": 768.0,\n        \"num_unique_values\": 8,\n        \"samples\": [\n          31.992578124999998,\n          32.0,\n          768.0\n        ],\n        \"semantic_type\": \"\",\n        \"description\": \"\"\n      }\n    },\n    {\n      \"column\": \"DiabetesPedigreeFunction\",\n      \"properties\": {\n        \"dtype\": \"number\",\n        \"std\": 271.3005221658502,\n        \"min\": 0.078,\n        \"max\": 768.0,\n        \"num_unique_values\": 8,\n        \"samples\": [\n          0.47187630208333325,\n          0.3725,\n          768.0\n        ],\n        \"semantic_type\": \"\",\n        \"description\": \"\"\n      }\n    },\n    {\n      \"column\": \"Age\",\n      \"properties\": {\n        \"dtype\": \"number\",\n        \"std\": 260.1941178528413,\n        \"min\": 11.760231540678685,\n        \"max\": 768.0,\n        \"num_unique_values\": 8,\n        \"samples\": [\n          33.240885416666664,\n          29.0,\n          768.0\n        ],\n        \"semantic_type\": \"\",\n        \"description\": \"\"\n      }\n    },\n    {\n      \"column\": \"Outcome\",\n      \"properties\": {\n        \"dtype\": \"number\",\n        \"std\": 271.3865920388932,\n        \"min\": 0.0,\n        \"max\": 768.0,\n        \"num_unique_values\": 5,\n        \"samples\": [\n          0.3489583333333333,\n          1.0,\n          0.47695137724279896\n        ],\n        \"semantic_type\": \"\",\n        \"description\": \"\"\n      }\n    }\n  ]\n}"
            }
          },
          "metadata": {},
          "execution_count": 91
        }
      ]
    },
    {
      "cell_type": "code",
      "source": [
        "import pandas as pd\n",
        "\n",
        "# Load the Pima Indians Diabetes Database\n",
        "url = \"https://raw.githubusercontent.com/Rumaizakosar/Eight-Puzzle-Code/main/diabetes.csv\"\n",
        "column_names = ['pregnant', 'glucose', 'blood_pressure', 'skin_thickness', 'insulin', 'bmi', 'diabetes_pedigree_function', 'age', 'outcome']\n",
        "DP = pd.read_csv(url)\n",
        "\n",
        "# Get the attributes (columns) of the dataset\n",
        "attributes = DP.columns\n",
        "\n",
        "print(\"Attributes (columns) of the PIMA dataset:\")\n",
        "print(attributes)\n"
      ],
      "metadata": {
        "colab": {
          "base_uri": "https://localhost:8080/"
        },
        "id": "j-Xe20tQZLP8",
        "outputId": "ad9cca32-127c-46ad-b2dc-10efa11a5d7d"
      },
      "execution_count": null,
      "outputs": [
        {
          "output_type": "stream",
          "name": "stdout",
          "text": [
            "Attributes (columns) of the PIMA dataset:\n",
            "Index(['Pregnancies', 'Glucose', 'BloodPressure', 'SkinThickness', 'Insulin',\n",
            "       'BMI', 'DiabetesPedigreeFunction', 'Age', 'Outcome'],\n",
            "      dtype='object')\n"
          ]
        }
      ]
    },
    {
      "cell_type": "markdown",
      "source": [
        "Outliers Detection"
      ],
      "metadata": {
        "id": "aIZga8LszOti"
      }
    },
    {
      "cell_type": "code",
      "source": [
        "import pandas as pd\n",
        "\n",
        "# Load the dataset\n",
        "url = \"https://raw.githubusercontent.com/Rumaizakosar/Eight-Puzzle-Code/main/diabetes.csv\"\n",
        "column_names = ['pregnant', 'glucose', 'blood_pressure', 'skin_thickness', 'insulin', 'bmi', 'diabetes_pedigree_function', 'age', 'outcome']\n",
        "DP = pd.read_csv(url, names=column_names)\n",
        "\n",
        "# Function to detect outliers using IQR method\n",
        "def detect_outliers(DP):\n",
        "    outliers = []\n",
        "    for column in DP.columns:\n",
        "        if DP[column].dtype != 'object':  # Exclude non-numeric columns\n",
        "            Q1 = DP[column].quantile(0.25)\n",
        "            Q3 = DP[column].quantile(0.75)\n",
        "            IQR = Q3 - Q1\n",
        "            lower_bound = Q1 - 1.5 * IQR\n",
        "            upper_bound = Q3 + 1.5 * IQR\n",
        "            outliers.extend(DP[(DP[column] < lower_bound) | (DP[column] > upper_bound)].index)\n",
        "    return outliers\n",
        "\n",
        "# Find outliers\n",
        "outliers_indices = detect_outliers(DP)\n",
        "\n",
        "# Remove outliers\n",
        "DP_cleaned = DP.drop(outliers_indices)\n",
        "\n",
        "# Display the outliers\n",
        "print(\"Outliers found at indexes:\", outliers_indices)\n",
        "print(\"Cleaned DataFrame shape:\", DP_cleaned.shape)\n"
      ],
      "metadata": {
        "colab": {
          "base_uri": "https://localhost:8080/"
        },
        "id": "3YsaAaRipacZ",
        "outputId": "cada3472-2524-4cbe-e164-b5a2d46160cd"
      },
      "execution_count": 3,
      "outputs": [
        {
          "output_type": "stream",
          "name": "stdout",
          "text": [
            "Outliers found at indexes: []\n",
            "Cleaned DataFrame shape: (769, 9)\n"
          ]
        }
      ]
    },
    {
      "cell_type": "markdown",
      "source": [
        "Missing Values"
      ],
      "metadata": {
        "id": "60wSVXmI1GTj"
      }
    },
    {
      "cell_type": "code",
      "source": [
        "import pandas as pd\n",
        "\n",
        "# Load the Pima Indians Diabetes Database\n",
        "url = \"https://raw.githubusercontent.com/Rumaizakosar/Eight-Puzzle-Code/main/diabetes.csv\"\n",
        "DP = pd.read_csv(url)\n",
        "\n",
        "# Count the number of missing values in each column\n",
        "missing_values_count = DP.isnull().sum()\n",
        "\n",
        "print(\"Number of missing values in each column:\")\n",
        "print(missing_values_count)\n"
      ],
      "metadata": {
        "colab": {
          "base_uri": "https://localhost:8080/"
        },
        "id": "cxwAS3FBYyig",
        "outputId": "ff8b4c98-b7d5-43e6-e916-12c2f2747029"
      },
      "execution_count": null,
      "outputs": [
        {
          "output_type": "stream",
          "name": "stdout",
          "text": [
            "Number of missing values in each column:\n",
            "Pregnancies                 0\n",
            "Glucose                     0\n",
            "BloodPressure               0\n",
            "SkinThickness               0\n",
            "Insulin                     0\n",
            "BMI                         0\n",
            "DiabetesPedigreeFunction    0\n",
            "Age                         0\n",
            "Outcome                     0\n",
            "dtype: int64\n"
          ]
        }
      ]
    },
    {
      "cell_type": "markdown",
      "source": [
        "Normalization"
      ],
      "metadata": {
        "id": "PtqzpnUb1Mic"
      }
    },
    {
      "cell_type": "code",
      "source": [
        "import pandas as pd\n",
        "from sklearn.preprocessing import MinMaxScaler\n",
        "\n",
        "# Load the Pima Indians Diabetes Database\n",
        "url = \"https://raw.githubusercontent.com/Rumaizakosar/Eight-Puzzle-Code/main/diabetes.csv\"\n",
        "DP = pd.read_csv(url)\n",
        "\n",
        "# Extract column names from the DataFrame\n",
        "attributes = DP.columns[:-1]  # Exclude the 'outcome' column for normalization\n",
        "\n",
        "# Normalize the dataset\n",
        "scaler = MinMaxScaler()\n",
        "DP_normalized = scaler.fit_transform(DP[attributes])\n",
        "DP_normalized = pd.DataFrame(DP_normalized, columns=attributes)\n",
        "\n",
        "# Calculate mean and standard deviation after normalization\n",
        "mean_normalized = DP_normalized.mean()\n",
        "std_dev_normalized = DP_normalized.std()\n",
        "\n",
        "print(\"Mean after normalization:\")\n",
        "print(mean_normalized)\n",
        "print(\"\\nStandard deviation after normalization:\")\n",
        "print(std_dev_normalized)\n"
      ],
      "metadata": {
        "colab": {
          "base_uri": "https://localhost:8080/"
        },
        "id": "eFDd-IaWaLNH",
        "outputId": "c2fc7d0f-2345-49c7-d375-da53f08e670b"
      },
      "execution_count": 5,
      "outputs": [
        {
          "output_type": "stream",
          "name": "stdout",
          "text": [
            "Mean after normalization:\n",
            "Pregnancies                 0.226180\n",
            "Glucose                     0.607510\n",
            "BloodPressure               0.566438\n",
            "SkinThickness               0.207439\n",
            "Insulin                     0.094326\n",
            "BMI                         0.476790\n",
            "DiabetesPedigreeFunction    0.168179\n",
            "Age                         0.204015\n",
            "dtype: float64\n",
            "\n",
            "Standard deviation after normalization:\n",
            "Pregnancies                 0.198210\n",
            "Glucose                     0.160666\n",
            "BloodPressure               0.158654\n",
            "SkinThickness               0.161134\n",
            "Insulin                     0.136222\n",
            "BMI                         0.117499\n",
            "DiabetesPedigreeFunction    0.141473\n",
            "Age                         0.196004\n",
            "dtype: float64\n"
          ]
        }
      ]
    },
    {
      "cell_type": "markdown",
      "source": [
        "Feature Selection"
      ],
      "metadata": {
        "id": "xbpcDJw81Rjz"
      }
    },
    {
      "cell_type": "code",
      "source": [
        "import pandas as pd\n",
        "from sklearn.feature_selection import SelectKBest\n",
        "from sklearn.feature_selection import chi2\n",
        "\n",
        "# Load the dataset\n",
        "url = \"https://raw.githubusercontent.com/Rumaizakosar/Eight-Puzzle-Code/main/diabetes.csv\"\n",
        "DP = pd.read_csv(url)\n",
        "\n",
        "# Separate features and target variable\n",
        "X = DP.iloc[:, :-1]  # Features\n",
        "y = DP.iloc[:, -1]   # Target variable\n",
        "\n",
        "# Select features using chi-squared test\n",
        "best_features = SelectKBest(score_func=chi2, k=4)  # Select top 4 features\n",
        "fit = best_features.fit(X, y)\n",
        "\n",
        "# Summarize scores\n",
        "scores = pd.DataFrame(fit.scores_)\n",
        "columns = pd.DataFrame(X.columns)\n",
        "feature_scores = pd.concat([columns, scores], axis=1)\n",
        "feature_scores.columns = ['Feature', 'Score']\n",
        "\n",
        "# Print top features\n",
        "print(\"Top 4 features:\")\n",
        "print(feature_scores.nlargest(4, 'Score'))\n"
      ],
      "metadata": {
        "colab": {
          "base_uri": "https://localhost:8080/"
        },
        "id": "9TPYl0LosZLF",
        "outputId": "f4d93916-b3b2-4403-924c-90ae28ec71aa"
      },
      "execution_count": 6,
      "outputs": [
        {
          "output_type": "stream",
          "name": "stdout",
          "text": [
            "Top 4 features:\n",
            "   Feature        Score\n",
            "4  Insulin  2175.565273\n",
            "1  Glucose  1411.887041\n",
            "7      Age   181.303689\n",
            "5      BMI   127.669343\n"
          ]
        }
      ]
    },
    {
      "cell_type": "markdown",
      "source": [
        "Classification"
      ],
      "metadata": {
        "id": "fIx5Bh8p1Va3"
      }
    },
    {
      "cell_type": "code",
      "source": [
        "import pandas as pd\n",
        "from sklearn.model_selection import train_test_split\n",
        "from sklearn.tree import DecisionTreeClassifier\n",
        "from sklearn.neighbors import KNeighborsClassifier\n",
        "from sklearn.ensemble import RandomForestClassifier, AdaBoostClassifier\n",
        "from sklearn.naive_bayes import GaussianNB\n",
        "from sklearn.linear_model import LogisticRegression\n",
        "from sklearn.svm import SVC\n",
        "from sklearn.impute import SimpleImputer\n",
        "from sklearn.metrics import confusion_matrix\n",
        "import matplotlib.pyplot as plt\n",
        "import numpy as np\n",
        "\n",
        "# Load the Pima Indians Diabetes Database\n",
        "url = \"https://raw.githubusercontent.com/Rumaizakosar/Eight-Puzzle-Code/main/diabetes.csv\"\n",
        "DP = pd.read_csv(url)\n",
        "\n",
        "# Impute missing values with the mean\n",
        "imputer = SimpleImputer(strategy='mean')\n",
        "DP_imputed = pd.DataFrame(imputer.fit_transform(DP), columns=DP.columns)\n",
        "\n",
        "# Split features (X) and target variable (y)\n",
        "X = DP_imputed.drop(columns=['Outcome']) # Ensure the column name matches exactly\n",
        "y = DP_imputed['Outcome']\n",
        "\n",
        "# Split the dataset into training and testing sets (80% train, 20% test)\n",
        "X_train, X_test, y_train, y_test = train_test_split(X, y, test_size=0.2, random_state=42)\n",
        "\n",
        "# Initialize classifiers\n",
        "classifiers = {\n",
        "    'Decision Tree': DecisionTreeClassifier(),\n",
        "    'K-Nearest Neighbors': KNeighborsClassifier(),\n",
        "    'Random Forest': RandomForestClassifier(),\n",
        "    'Naive Bayes': GaussianNB(),\n",
        "    'AdaBoost': AdaBoostClassifier(),\n",
        "    'Logistic Regression': LogisticRegression(),\n",
        "    'Support Vector Machine': SVC()\n",
        "}\n",
        "\n",
        "# Train and evaluate classifiers\n",
        "for name, clf in classifiers.items():\n",
        "    clf.fit(X_train, y_train)\n",
        "    y_pred = clf.predict(X_test)\n",
        "    cm = confusion_matrix(y_test, y_pred)\n",
        "    print(f\"Confusion Matrix for {name}:\")\n",
        "    print(cm)\n",
        "\n",
        "    # Plot confusion matrix\n",
        "    plt.figure(figsize=(6, 6))\n",
        "    plt.imshow(cm, interpolation='nearest', cmap=plt.cm.Blues)\n",
        "    plt.title(f'Confusion Matrix for {name}')\n",
        "    plt.colorbar()\n",
        "    tick_marks = np.arange(len(np.unique(y)))\n",
        "    plt.xticks(tick_marks, np.unique(y), rotation=45)\n",
        "    plt.yticks(tick_marks, np.unique(y))\n",
        "    plt.xlabel('Predicted')\n",
        "    plt.ylabel('Actual')\n",
        "    plt.tight_layout()\n",
        "    plt.show()\n"
      ],
      "metadata": {
        "colab": {
          "base_uri": "https://localhost:8080/",
          "height": 1000
        },
        "id": "DSDCRP4NbNaN",
        "outputId": "495328ad-e7ef-404d-a538-9b43f24e9352"
      },
      "execution_count": null,
      "outputs": [
        {
          "output_type": "stream",
          "name": "stdout",
          "text": [
            "Confusion Matrix for Decision Tree:\n",
            "[[78 21]\n",
            " [18 37]]\n"
          ]
        },
        {
          "output_type": "display_data",
          "data": {
            "text/plain": [
              "<Figure size 600x600 with 2 Axes>"
            ],
            "image/png": "[encoded data removed]"
          },
          "metadata": {}
        },
        {
          "output_type": "stream",
          "name": "stdout",
          "text": [
            "Confusion Matrix for K-Nearest Neighbors:\n",
            "[[70 29]\n",
            " [23 32]]\n"
          ]
        },
        {
          "output_type": "display_data",
          "data": {
            "text/plain": [
              "<Figure size 600x600 with 2 Axes>"
            ],
            "image/png": "[encoded data removed]"
          },
          "metadata": {}
        },
        {
          "output_type": "stream",
          "name": "stdout",
          "text": [
            "Confusion Matrix for Random Forest:\n",
            "[[79 20]\n",
            " [19 36]]\n"
          ]
        },
        {
          "output_type": "display_data",
          "data": {
            "text/plain": [
              "<Figure size 600x600 with 2 Axes>"
            ],
            "image/png": "[encoded data removed]"
          },
          "metadata": {}
        },
        {
          "output_type": "stream",
          "name": "stdout",
          "text": [
            "Confusion Matrix for Naive Bayes:\n",
            "[[79 20]\n",
            " [16 39]]\n"
          ]
        },
        {
          "output_type": "display_data",
          "data": {
            "text/plain": [
              "<Figure size 600x600 with 2 Axes>"
            ],
            "image/png": "[encoded data removed]"
          },
          "metadata": {}
        },
        {
          "output_type": "stream",
          "name": "stdout",
          "text": [
            "Confusion Matrix for AdaBoost:\n",
            "[[78 21]\n",
            " [20 35]]\n"
          ]
        },
        {
          "output_type": "display_data",
          "data": {
            "text/plain": [
              "<Figure size 600x600 with 2 Axes>"
            ],
            "image/png": "[encoded data removed]"
          },
          "metadata": {}
        },
        {
          "output_type": "stream",
          "name": "stderr",
          "text": [
            "/usr/local/lib/python3.10/dist-packages/sklearn/linear_model/_logistic.py:458: ConvergenceWarning: lbfgs failed to converge (status=1):\n",
            "STOP: TOTAL NO. of ITERATIONS REACHED LIMIT.\n",
            "\n",
            "Increase the number of iterations (max_iter) or scale the data as shown in:\n",
            "    https://scikit-learn.org/stable/modules/preprocessing.html\n",
            "Please also refer to the documentation for alternative solver options:\n",
            "    https://scikit-learn.org/stable/modules/linear_model.html#logistic-regression\n",
            "  n_iter_i = _check_optimize_result(\n"
          ]
        },
        {
          "output_type": "stream",
          "name": "stdout",
          "text": [
            "Confusion Matrix for Logistic Regression:\n",
            "[[78 21]\n",
            " [18 37]]\n"
          ]
        },
        {
          "output_type": "display_data",
          "data": {
            "text/plain": [
              "<Figure size 600x600 with 2 Axes>"
            ],
            "image/png": "[encoded data removed]"
          },
          "metadata": {}
        },
        {
          "output_type": "stream",
          "name": "stdout",
          "text": [
            "Confusion Matrix for Support Vector Machine:\n",
            "[[87 12]\n",
            " [24 31]]\n"
          ]
        },
        {
          "output_type": "display_data",
          "data": {
            "text/plain": [
              "<Figure size 600x600 with 2 Axes>"
            ],
            "image/png": "[encoded data removed]"
          },
          "metadata": {}
        }
      ]
    },
    {
      "cell_type": "code",
      "source": [
        "import pandas as pd\n",
        "from sklearn.model_selection import train_test_split\n",
        "from sklearn.tree import DecisionTreeClassifier\n",
        "from sklearn.neighbors import KNeighborsClassifier\n",
        "from sklearn.ensemble import RandomForestClassifier, AdaBoostClassifier\n",
        "from sklearn.naive_bayes import GaussianNB\n",
        "from sklearn.linear_model import LogisticRegression\n",
        "from sklearn.svm import SVC\n",
        "from sklearn.impute import SimpleImputer\n",
        "from sklearn.metrics import confusion_matrix\n",
        "import numpy as np\n",
        "\n",
        "# Load the Pima Indians Diabetes Database\n",
        "url = \"https://raw.githubusercontent.com/Rumaizakosar/Eight-Puzzle-Code/main/diabetes.csv\"\n",
        "DP = pd.read_csv(url)\n",
        "\n",
        "# Impute missing values with the mean\n",
        "imputer = SimpleImputer(strategy='mean')\n",
        "DP_imputed = pd.DataFrame(imputer.fit_transform(DP), columns=DP.columns)\n",
        "\n",
        "# Split features (X) and target variable (y)\n",
        "X = DP_imputed.drop(columns=['Outcome']) # Ensure the column name matches exactly\n",
        "y = DP_imputed['Outcome']\n",
        "\n",
        "# Split the dataset into training and testing sets (80% train, 20% test)\n",
        "X_train, X_test, y_train, y_test = train_test_split(X, y, test_size=0.2, random_state=42)\n",
        "\n",
        "# Initialize classifiers\n",
        "classifiers = {\n",
        "    'Decision Tree': DecisionTreeClassifier(),\n",
        "    'K-Nearest Neighbors': KNeighborsClassifier(),\n",
        "    'Random Forest': RandomForestClassifier(),\n",
        "    'Naive Bayes': GaussianNB(),\n",
        "    'AdaBoost': AdaBoostClassifier(),\n",
        "    'Logistic Regression': LogisticRegression(),\n",
        "    'Support Vector Machine': SVC()\n",
        "}\n",
        "\n",
        "# Create an empty list to store the results\n",
        "results_list = []\n",
        "\n",
        "# Train and evaluate classifiers\n",
        "for name, clf in classifiers.items():\n",
        "    clf.fit(X_train, y_train)\n",
        "    y_pred = clf.predict(X_test)\n",
        "    cm = confusion_matrix(y_test, y_pred)\n",
        "    tp, fp, fn, tn = cm.ravel()\n",
        "    results_list.append({'Classifier': name, 'TP': tp, 'FP': fp, 'TN': tn, 'FN': fn})\n",
        "\n",
        "# Convert the list of dictionaries to a DataFrame\n",
        "results = pd.DataFrame(results_list)\n",
        "\n",
        "# Display the results as a table\n",
        "print(\"Confusion Matrix Results for Each Classifier:\")\n",
        "print(results)\n"
      ],
      "metadata": {
        "colab": {
          "base_uri": "https://localhost:8080/"
        },
        "id": "LgFYvJT2dACb",
        "outputId": "a84334f2-b532-4ece-a506-f291c2752bfa"
      },
      "execution_count": null,
      "outputs": [
        {
          "output_type": "stream",
          "name": "stdout",
          "text": [
            "Confusion Matrix Results for Each Classifier:\n",
            "               Classifier  TP  FP  TN  FN\n",
            "0           Decision Tree  78  21  38  17\n",
            "1     K-Nearest Neighbors  70  29  32  23\n",
            "2           Random Forest  79  20  34  21\n",
            "3             Naive Bayes  79  20  39  16\n",
            "4                AdaBoost  78  21  35  20\n",
            "5     Logistic Regression  78  21  37  18\n",
            "6  Support Vector Machine  87  12  31  24\n"
          ]
        },
        {
          "output_type": "stream",
          "name": "stderr",
          "text": [
            "/usr/local/lib/python3.10/dist-packages/sklearn/linear_model/_logistic.py:458: ConvergenceWarning: lbfgs failed to converge (status=1):\n",
            "STOP: TOTAL NO. of ITERATIONS REACHED LIMIT.\n",
            "\n",
            "Increase the number of iterations (max_iter) or scale the data as shown in:\n",
            "    https://scikit-learn.org/stable/modules/preprocessing.html\n",
            "Please also refer to the documentation for alternative solver options:\n",
            "    https://scikit-learn.org/stable/modules/linear_model.html#logistic-regression\n",
            "  n_iter_i = _check_optimize_result(\n"
          ]
        }
      ]
    },
    {
      "cell_type": "markdown",
      "source": [
        "Count"
      ],
      "metadata": {
        "id": "mCa2IB241eLz"
      }
    },
    {
      "cell_type": "code",
      "source": [
        "import pandas as pd\n",
        "from sklearn.impute import SimpleImputer\n",
        "import matplotlib.pyplot as plt\n",
        "\n",
        "# Load the Pima Indians Diabetes Database\n",
        "url = \"https://raw.githubusercontent.com/Rumaizakosar/Eight-Puzzle-Code/main/diabetes.csv\"\n",
        "DP = pd.read_csv(url)\n",
        "\n",
        "# Impute missing values with the mean\n",
        "imputer = SimpleImputer(strategy='mean')\n",
        "DP_imputed = pd.DataFrame(imputer.fit_transform(DP), columns=DP.columns)\n",
        "\n",
        "# Count the number of diabetes and non-diabetes patients\n",
        "num_diabetes = DP_imputed['Outcome'].sum()  # Sum of 1s (diabetes patients)\n",
        "num_non_diabetes = len(DP_imputed) - num_diabetes  # Total length - number of diabetes patients\n",
        "\n",
        "# Plot the counts as a bar graph\n",
        "labels = ['Diabetes', 'Non-Diabetes']\n",
        "counts = [num_diabetes, num_non_diabetes]\n",
        "\n",
        "plt.bar(labels, counts, color=['blue', 'green'])\n",
        "plt.xlabel('Patient Type')\n",
        "plt.ylabel('Count')\n",
        "plt.title('Counts of Diabetes and Non-Diabetes Patients')\n",
        "plt.show()\n"
      ],
      "metadata": {
        "colab": {
          "base_uri": "https://localhost:8080/",
          "height": 472
        },
        "id": "dRnAB6C5dWOs",
        "outputId": "14c205c7-3c3e-47eb-d221-fea39cec6950"
      },
      "execution_count": null,
      "outputs": [
        {
          "output_type": "display_data",
          "data": {
            "text/plain": [
              "<Figure size 640x480 with 1 Axes>"
            ],
            "image/png": "[encoded data removed]"
          },
          "metadata": {}
        }
      ]
    },
    {
      "cell_type": "markdown",
      "source": [
        "Correlation Between Values"
      ],
      "metadata": {
        "id": "kUfxhBZV1jWA"
      }
    },
    {
      "cell_type": "code",
      "source": [
        "import pandas as pd\n",
        "from sklearn.impute import SimpleImputer\n",
        "import matplotlib.pyplot as plt\n",
        "\n",
        "# Load the Pima Indians Diabetes Database\n",
        "url = \"https://raw.githubusercontent.com/Rumaizakosar/Eight-Puzzle-Code/main/diabetes.csv\"\n",
        "DP = pd.read_csv(url)\n",
        "\n",
        "# Impute missing values with the mean\n",
        "imputer = SimpleImputer(strategy='mean')\n",
        "DP_imputed = pd.DataFrame(imputer.fit_transform(DP), columns=DP.columns)\n",
        "\n",
        "# Calculate Pearson correlation coefficients between input attributes and the output attribute (Outcome)\n",
        "correlation_values = DP_imputed.corr()['Outcome'].drop('Outcome')\n",
        "\n",
        "# Plot the Pearson correlation coefficients as a bar graph\n",
        "plt.figure(figsize=(10, 6))\n",
        "correlation_values.plot(kind='bar', color=['red' if val < 0 else 'blue' for val in correlation_values])\n",
        "plt.xlabel('Input Attributes')\n",
        "plt.ylabel('Pearson Correlation Coefficient')\n",
        "plt.title('Pearson Correlation Coefficients between Input Attributes and Outcome')\n",
        "plt.xticks(rotation=45)\n",
        "plt.axhline(y=0, color='black', linewidth=1)  # Add a horizontal line at y=0\n",
        "plt.grid(axis='y', linestyle='--', alpha=0.7)\n",
        "plt.show()\n",
        "\n"
      ],
      "metadata": {
        "colab": {
          "base_uri": "https://localhost:8080/",
          "height": 688
        },
        "id": "9Zpc0Q5ueZe9",
        "outputId": "f8bf84ba-b8de-4c7e-aab0-11dd18447e8c"
      },
      "execution_count": null,
      "outputs": [
        {
          "output_type": "display_data",
          "data": {
            "text/plain": [
              "<Figure size 1000x600 with 1 Axes>"
            ],
            "image/png": "[encoded data removed]"
          },
          "metadata": {}
        }
      ]
    },
    {
      "cell_type": "markdown",
      "source": [
        "Build NN with one hidden layer"
      ],
      "metadata": {
        "id": "slDF_-xB1rvr"
      }
    },
    {
      "cell_type": "code",
      "source": [
        "import pandas as pd\n",
        "from sklearn.model_selection import train_test_split\n",
        "from sklearn.preprocessing import StandardScaler\n",
        "from tensorflow.keras.models import Sequential\n",
        "from tensorflow.keras.layers import Dense\n",
        "\n",
        "# Load the Pima Indians Diabetes Database\n",
        "url = \"https://raw.githubusercontent.com/Rumaizakosar/Eight-Puzzle-Code/main/diabetes.csv\"\n",
        "DP = pd.read_csv(url)\n",
        "\n",
        "# Split features (X) and target variable (y)\n",
        "X = DP.drop('Outcome', axis=1)\n",
        "y = DP['Outcome']\n",
        "\n",
        "# Split the dataset into training and testing sets (80% train, 20% test)\n",
        "X_train, X_test, y_train, y_test = train_test_split(X, y, test_size=0.2, random_state=42)\n",
        "\n",
        "# Standardize features by removing the mean and scaling to unit variance\n",
        "scaler = StandardScaler()\n",
        "X_train_scaled = scaler.fit_transform(X_train)\n",
        "X_test_scaled = scaler.transform(X_test)\n",
        "\n",
        "# Build the neural network model with one hidden layer\n",
        "model = Sequential([\n",
        "    Dense(16, activation='relu', input_shape=(X_train.shape[1],)),\n",
        "    Dense(1, activation='sigmoid')\n",
        "])\n",
        "\n",
        "# Compile the model\n",
        "model.compile(optimizer='adam', loss='binary_crossentropy', metrics=['accuracy'])\n",
        "\n",
        "# Train the model\n",
        "history = model.fit(X_train_scaled, y_train, epochs=50, batch_size=32, validation_split=0.2, verbose=1)\n",
        "\n",
        "# Evaluate the model on test data\n",
        "test_loss, test_accuracy = model.evaluate(X_test_scaled, y_test)\n",
        "print(f'Test Accuracy: {test_accuracy:.4f}')\n"
      ],
      "metadata": {
        "colab": {
          "base_uri": "https://localhost:8080/"
        },
        "id": "2nOMamiifP4x",
        "outputId": "eb228e32-ddde-4e38-fc10-bd8698a36454"
      },
      "execution_count": null,
      "outputs": [
        {
          "output_type": "stream",
          "name": "stdout",
          "text": [
            "Epoch 1/50\n",
            "16/16 [==============================] - 1s 17ms/step - loss: 0.6316 - accuracy: 0.6721 - val_loss: 0.6541 - val_accuracy: 0.6423\n",
            "Epoch 2/50\n",
            "16/16 [==============================] - 0s 4ms/step - loss: 0.6145 - accuracy: 0.6802 - val_loss: 0.6403 - val_accuracy: 0.6504\n",
            "Epoch 3/50\n",
            "16/16 [==============================] - 0s 5ms/step - loss: 0.5992 - accuracy: 0.6864 - val_loss: 0.6268 - val_accuracy: 0.6585\n",
            "Epoch 4/50\n",
            "16/16 [==============================] - 0s 5ms/step - loss: 0.5853 - accuracy: 0.6904 - val_loss: 0.6139 - val_accuracy: 0.6667\n",
            "Epoch 5/50\n",
            "16/16 [==============================] - 0s 4ms/step - loss: 0.5722 - accuracy: 0.7026 - val_loss: 0.6003 - val_accuracy: 0.6667\n",
            "Epoch 6/50\n",
            "16/16 [==============================] - 0s 4ms/step - loss: 0.5594 - accuracy: 0.7088 - val_loss: 0.5886 - val_accuracy: 0.6748\n",
            "Epoch 7/50\n",
            "16/16 [==============================] - 0s 5ms/step - loss: 0.5485 - accuracy: 0.7128 - val_loss: 0.5769 - val_accuracy: 0.6748\n",
            "Epoch 8/50\n",
            "16/16 [==============================] - 0s 5ms/step - loss: 0.5375 - accuracy: 0.7230 - val_loss: 0.5666 - val_accuracy: 0.6829\n",
            "Epoch 9/50\n",
            "16/16 [==============================] - 0s 4ms/step - loss: 0.5287 - accuracy: 0.7271 - val_loss: 0.5567 - val_accuracy: 0.7154\n",
            "Epoch 10/50\n",
            "16/16 [==============================] - 0s 4ms/step - loss: 0.5204 - accuracy: 0.7312 - val_loss: 0.5482 - val_accuracy: 0.7154\n",
            "Epoch 11/50\n",
            "16/16 [==============================] - 0s 4ms/step - loss: 0.5133 - accuracy: 0.7393 - val_loss: 0.5405 - val_accuracy: 0.7073\n",
            "Epoch 12/50\n",
            "16/16 [==============================] - 0s 4ms/step - loss: 0.5072 - accuracy: 0.7413 - val_loss: 0.5332 - val_accuracy: 0.6911\n",
            "Epoch 13/50\n",
            "16/16 [==============================] - 0s 4ms/step - loss: 0.5011 - accuracy: 0.7475 - val_loss: 0.5263 - val_accuracy: 0.6992\n",
            "Epoch 14/50\n",
            "16/16 [==============================] - 0s 5ms/step - loss: 0.4961 - accuracy: 0.7536 - val_loss: 0.5221 - val_accuracy: 0.6911\n",
            "Epoch 15/50\n",
            "16/16 [==============================] - 0s 5ms/step - loss: 0.4915 - accuracy: 0.7556 - val_loss: 0.5165 - val_accuracy: 0.6911\n",
            "Epoch 16/50\n",
            "16/16 [==============================] - 0s 4ms/step - loss: 0.4870 - accuracy: 0.7637 - val_loss: 0.5120 - val_accuracy: 0.6911\n",
            "Epoch 17/50\n",
            "16/16 [==============================] - 0s 4ms/step - loss: 0.4831 - accuracy: 0.7658 - val_loss: 0.5067 - val_accuracy: 0.7073\n",
            "Epoch 18/50\n",
            "16/16 [==============================] - 0s 4ms/step - loss: 0.4799 - accuracy: 0.7597 - val_loss: 0.5036 - val_accuracy: 0.7073\n",
            "Epoch 19/50\n",
            "16/16 [==============================] - 0s 5ms/step - loss: 0.4762 - accuracy: 0.7576 - val_loss: 0.5002 - val_accuracy: 0.7073\n",
            "Epoch 20/50\n",
            "16/16 [==============================] - 0s 5ms/step - loss: 0.4731 - accuracy: 0.7576 - val_loss: 0.4977 - val_accuracy: 0.7317\n",
            "Epoch 21/50\n",
            "16/16 [==============================] - 0s 5ms/step - loss: 0.4704 - accuracy: 0.7658 - val_loss: 0.4944 - val_accuracy: 0.7398\n",
            "Epoch 22/50\n",
            "16/16 [==============================] - 0s 4ms/step - loss: 0.4677 - accuracy: 0.7699 - val_loss: 0.4919 - val_accuracy: 0.7642\n",
            "Epoch 23/50\n",
            "16/16 [==============================] - 0s 4ms/step - loss: 0.4654 - accuracy: 0.7699 - val_loss: 0.4890 - val_accuracy: 0.7642\n",
            "Epoch 24/50\n",
            "16/16 [==============================] - 0s 4ms/step - loss: 0.4633 - accuracy: 0.7637 - val_loss: 0.4868 - val_accuracy: 0.7642\n",
            "Epoch 25/50\n",
            "16/16 [==============================] - 0s 4ms/step - loss: 0.4612 - accuracy: 0.7658 - val_loss: 0.4850 - val_accuracy: 0.7642\n",
            "Epoch 26/50\n",
            "16/16 [==============================] - 0s 4ms/step - loss: 0.4593 - accuracy: 0.7699 - val_loss: 0.4835 - val_accuracy: 0.7642\n",
            "Epoch 27/50\n",
            "16/16 [==============================] - 0s 5ms/step - loss: 0.4572 - accuracy: 0.7719 - val_loss: 0.4818 - val_accuracy: 0.7561\n",
            "Epoch 28/50\n",
            "16/16 [==============================] - 0s 4ms/step - loss: 0.4558 - accuracy: 0.7678 - val_loss: 0.4809 - val_accuracy: 0.7642\n",
            "Epoch 29/50\n",
            "16/16 [==============================] - 0s 4ms/step - loss: 0.4539 - accuracy: 0.7739 - val_loss: 0.4792 - val_accuracy: 0.7561\n",
            "Epoch 30/50\n",
            "16/16 [==============================] - 0s 5ms/step - loss: 0.4521 - accuracy: 0.7821 - val_loss: 0.4784 - val_accuracy: 0.7642\n",
            "Epoch 31/50\n",
            "16/16 [==============================] - 0s 5ms/step - loss: 0.4508 - accuracy: 0.7780 - val_loss: 0.4772 - val_accuracy: 0.7724\n",
            "Epoch 32/50\n",
            "16/16 [==============================] - 0s 5ms/step - loss: 0.4490 - accuracy: 0.7821 - val_loss: 0.4767 - val_accuracy: 0.7561\n",
            "Epoch 33/50\n",
            "16/16 [==============================] - 0s 5ms/step - loss: 0.4476 - accuracy: 0.7841 - val_loss: 0.4761 - val_accuracy: 0.7561\n",
            "Epoch 34/50\n",
            "16/16 [==============================] - 0s 5ms/step - loss: 0.4464 - accuracy: 0.7800 - val_loss: 0.4762 - val_accuracy: 0.7561\n",
            "Epoch 35/50\n",
            "16/16 [==============================] - 0s 5ms/step - loss: 0.4456 - accuracy: 0.7800 - val_loss: 0.4765 - val_accuracy: 0.7642\n",
            "Epoch 36/50\n",
            "16/16 [==============================] - 0s 5ms/step - loss: 0.4439 - accuracy: 0.7800 - val_loss: 0.4742 - val_accuracy: 0.7561\n",
            "Epoch 37/50\n",
            "16/16 [==============================] - 0s 5ms/step - loss: 0.4429 - accuracy: 0.7800 - val_loss: 0.4730 - val_accuracy: 0.7561\n",
            "Epoch 38/50\n",
            "16/16 [==============================] - 0s 4ms/step - loss: 0.4415 - accuracy: 0.7800 - val_loss: 0.4723 - val_accuracy: 0.7642\n",
            "Epoch 39/50\n",
            "16/16 [==============================] - 0s 5ms/step - loss: 0.4405 - accuracy: 0.7800 - val_loss: 0.4725 - val_accuracy: 0.7561\n",
            "Epoch 40/50\n",
            "16/16 [==============================] - 0s 4ms/step - loss: 0.4395 - accuracy: 0.7821 - val_loss: 0.4716 - val_accuracy: 0.7561\n",
            "Epoch 41/50\n",
            "16/16 [==============================] - 0s 4ms/step - loss: 0.4385 - accuracy: 0.7841 - val_loss: 0.4705 - val_accuracy: 0.7642\n",
            "Epoch 42/50\n",
            "16/16 [==============================] - 0s 4ms/step - loss: 0.4374 - accuracy: 0.7841 - val_loss: 0.4706 - val_accuracy: 0.7561\n",
            "Epoch 43/50\n",
            "16/16 [==============================] - 0s 4ms/step - loss: 0.4367 - accuracy: 0.7841 - val_loss: 0.4699 - val_accuracy: 0.7642\n",
            "Epoch 44/50\n",
            "16/16 [==============================] - 0s 5ms/step - loss: 0.4361 - accuracy: 0.7862 - val_loss: 0.4711 - val_accuracy: 0.7642\n",
            "Epoch 45/50\n",
            "16/16 [==============================] - 0s 5ms/step - loss: 0.4352 - accuracy: 0.7862 - val_loss: 0.4706 - val_accuracy: 0.7724\n",
            "Epoch 46/50\n",
            "16/16 [==============================] - 0s 4ms/step - loss: 0.4342 - accuracy: 0.7841 - val_loss: 0.4702 - val_accuracy: 0.7724\n",
            "Epoch 47/50\n",
            "16/16 [==============================] - 0s 5ms/step - loss: 0.4336 - accuracy: 0.7862 - val_loss: 0.4702 - val_accuracy: 0.7724\n",
            "Epoch 48/50\n",
            "16/16 [==============================] - 0s 5ms/step - loss: 0.4326 - accuracy: 0.7841 - val_loss: 0.4702 - val_accuracy: 0.7724\n",
            "Epoch 49/50\n",
            "16/16 [==============================] - 0s 5ms/step - loss: 0.4318 - accuracy: 0.7841 - val_loss: 0.4705 - val_accuracy: 0.7724\n",
            "Epoch 50/50\n",
            "16/16 [==============================] - 0s 4ms/step - loss: 0.4312 - accuracy: 0.7862 - val_loss: 0.4697 - val_accuracy: 0.7724\n",
            "5/5 [==============================] - 0s 3ms/step - loss: 0.5406 - accuracy: 0.7597\n",
            "Test Accuracy: 0.7597\n"
          ]
        }
      ]
    },
    {
      "cell_type": "markdown",
      "source": [
        "K-fold Cross validation"
      ],
      "metadata": {
        "id": "ZU12Bw0j1zc3"
      }
    },
    {
      "cell_type": "code",
      "source": [
        "import pandas as pd\n",
        "from sklearn.model_selection import cross_val_score, train_test_split\n",
        "from sklearn.preprocessing import StandardScaler\n",
        "from sklearn.pipeline import make_pipeline\n",
        "from sklearn.tree import DecisionTreeClassifier\n",
        "from sklearn.neighbors import KNeighborsClassifier\n",
        "from sklearn.ensemble import RandomForestClassifier, AdaBoostClassifier\n",
        "from sklearn.naive_bayes import GaussianNB\n",
        "from sklearn.linear_model import LogisticRegression\n",
        "from sklearn.svm import SVC\n",
        "\n",
        "# Load the Pima Indians Diabetes Database\n",
        "url = \"https://raw.githubusercontent.com/Rumaizakosar/Eight-Puzzle-Code/main/diabetes.csv\"\n",
        "DP = pd.read_csv(url)\n",
        "\n",
        "# Split features (X) and target variable (y)\n",
        "X = DP.drop('Outcome', axis=1)\n",
        "y = DP['Outcome']\n",
        "\n",
        "# Define classification algorithms\n",
        "classifiers = {\n",
        "    'Decision Tree': DecisionTreeClassifier(),\n",
        "    'K-Nearest Neighbors': KNeighborsClassifier(),\n",
        "    'Random Forest': RandomForestClassifier(),\n",
        "    'Naive Bayes': GaussianNB(),\n",
        "    'AdaBoost': AdaBoostClassifier(),\n",
        "    'Logistic Regression': LogisticRegression(),\n",
        "    'Support Vector Machine': SVC()\n",
        "}\n",
        "\n",
        "# Perform evaluation using K-fold cross-validation\n",
        "kfold_results = []\n",
        "for name, clf in classifiers.items():\n",
        "    pipeline = make_pipeline(StandardScaler(), clf)\n",
        "    scores = cross_val_score(pipeline, X, y, cv=10, scoring='accuracy')\n",
        "    mean_accuracy = scores.mean()\n",
        "    std_deviation = scores.std()\n",
        "    kfold_results.append([name, mean_accuracy, std_deviation])\n",
        "\n",
        "# Perform evaluation using Train/Test splitting\n",
        "splitting_results = []\n",
        "X_train, X_test, y_train, y_test = train_test_split(X, y, test_size=0.2, random_state=42)\n",
        "for name, clf in classifiers.items():\n",
        "    pipeline = make_pipeline(StandardScaler(), clf)\n",
        "    pipeline.fit(X_train, y_train)\n",
        "    accuracy = pipeline.score(X_test, y_test)\n",
        "    splitting_results.append([name, accuracy])\n",
        "\n",
        "# Create DataFrames\n",
        "kfold_df = pd.DataFrame(kfold_results, columns=['Classifier', 'Mean Accuracy (K-fold)', 'Std Deviation (K-fold)'])\n",
        "splitting_df = pd.DataFrame(splitting_results, columns=['Classifier', 'Accuracy (Train/Test Split)'])\n",
        "\n",
        "# Print the tables\n",
        "print(\"Performance measure using K-fold cross-validation:\")\n",
        "print(kfold_df.to_string(index=False))\n",
        "print(\"\\nPerformance measure using Train/Test splitting:\")\n",
        "print(splitting_df.to_string(index=False))\n"
      ],
      "metadata": {
        "colab": {
          "base_uri": "https://localhost:8080/"
        },
        "id": "8mUf3TIogNNL",
        "outputId": "4d6eea00-9d1d-4aea-8e01-160aee4514b5"
      },
      "execution_count": null,
      "outputs": [
        {
          "output_type": "stream",
          "name": "stdout",
          "text": [
            "Performance measure using K-fold cross-validation:\n",
            "            Classifier  Mean Accuracy (K-fold)  Std Deviation (K-fold)\n",
            "         Decision Tree                0.699180                0.059041\n",
            "   K-Nearest Neighbors                0.739542                0.054706\n",
            "         Random Forest                0.757809                0.060504\n",
            "           Naive Bayes                0.756494                0.033037\n",
            "              AdaBoost                0.755246                0.057137\n",
            "   Logistic Regression                0.772180                0.036221\n",
            "Support Vector Machine                0.760390                0.038950\n",
            "\n",
            "Performance measure using Train/Test splitting:\n",
            "            Classifier  Accuracy (Train/Test Split)\n",
            "         Decision Tree                     0.772727\n",
            "   K-Nearest Neighbors                     0.694805\n",
            "         Random Forest                     0.746753\n",
            "           Naive Bayes                     0.766234\n",
            "              AdaBoost                     0.733766\n",
            "   Logistic Regression                     0.753247\n",
            "Support Vector Machine                     0.733766\n"
          ]
        }
      ]
    },
    {
      "cell_type": "markdown",
      "source": [
        "Learning Rate"
      ],
      "metadata": {
        "id": "SKs3Ckzi15o3"
      }
    },
    {
      "cell_type": "code",
      "source": [
        "import pandas as pd\n",
        "import numpy as np\n",
        "import tensorflow as tf\n",
        "from tensorflow.keras.models import Sequential\n",
        "from tensorflow.keras.layers import Dense\n",
        "from tensorflow.keras.optimizers import Adam\n",
        "from tensorflow.keras.callbacks import LearningRateScheduler\n",
        "\n",
        "# Load the Pima Indians Diabetes Database\n",
        "url = \"https://raw.githubusercontent.com/Rumaizakosar/Eight-Puzzle-Code/main/diabetes.csv\"\n",
        "DP = pd.read_csv(url)\n",
        "\n",
        "# Split features (X) and target variable (y)\n",
        "X = DP.drop('Outcome', axis=1)\n",
        "y = DP['Outcome']\n",
        "\n",
        "# Define a function to create the model\n",
        "def create_model(learning_rate=0.01):\n",
        "    model = Sequential([\n",
        "        Dense(16, activation='relu', input_shape=(X.shape[1],)),\n",
        "        Dense(8, activation='relu'),\n",
        "        Dense(1, activation='sigmoid')\n",
        "    ])\n",
        "    optimizer = Adam(learning_rate=learning_rate)\n",
        "    model.compile(optimizer=optimizer, loss='binary_crossentropy', metrics=['accuracy'])\n",
        "    return model\n",
        "\n",
        "# Define a learning rate schedule\n",
        "def lr_schedule(epoch, lr):\n",
        "    if epoch < 10:\n",
        "        return 0.01\n",
        "    elif epoch < 20:\n",
        "        return 0.001\n",
        "    else:\n",
        "        return 0.0001\n",
        "\n",
        "# Create the model\n",
        "model = create_model()\n",
        "\n",
        "# Define the learning rate scheduler\n",
        "lr_scheduler = LearningRateScheduler(lr_schedule)\n",
        "\n",
        "# Train the model\n",
        "history = model.fit(X, y, epochs=30, callbacks=[lr_scheduler])\n"
      ],
      "metadata": {
        "colab": {
          "base_uri": "https://localhost:8080/"
        },
        "id": "Rs_-4YVEhJIV",
        "outputId": "fea0fb9f-16aa-405f-fe84-0b90ac613259"
      },
      "execution_count": null,
      "outputs": [
        {
          "output_type": "stream",
          "name": "stdout",
          "text": [
            "Epoch 1/30\n",
            "24/24 [==============================] - 1s 2ms/step - loss: 7.2408 - accuracy: 0.5326 - lr: 0.0100\n",
            "Epoch 2/30\n",
            "24/24 [==============================] - 0s 2ms/step - loss: 2.0899 - accuracy: 0.5755 - lr: 0.0100\n",
            "Epoch 3/30\n",
            "24/24 [==============================] - 0s 2ms/step - loss: 1.3254 - accuracy: 0.5938 - lr: 0.0100\n",
            "Epoch 4/30\n",
            "24/24 [==============================] - 0s 2ms/step - loss: 1.1961 - accuracy: 0.6276 - lr: 0.0100\n",
            "Epoch 5/30\n",
            "24/24 [==============================] - 0s 2ms/step - loss: 0.9159 - accuracy: 0.6380 - lr: 0.0100\n",
            "Epoch 6/30\n",
            "24/24 [==============================] - 0s 2ms/step - loss: 0.8070 - accuracy: 0.6354 - lr: 0.0100\n",
            "Epoch 7/30\n",
            "24/24 [==============================] - 0s 2ms/step - loss: 0.8840 - accuracy: 0.6289 - lr: 0.0100\n",
            "Epoch 8/30\n",
            "24/24 [==============================] - 0s 2ms/step - loss: 0.7587 - accuracy: 0.6615 - lr: 0.0100\n",
            "Epoch 9/30\n",
            "24/24 [==============================] - 0s 2ms/step - loss: 0.7063 - accuracy: 0.6562 - lr: 0.0100\n",
            "Epoch 10/30\n",
            "24/24 [==============================] - 0s 2ms/step - loss: 0.7326 - accuracy: 0.6549 - lr: 0.0100\n",
            "Epoch 11/30\n",
            "24/24 [==============================] - 0s 2ms/step - loss: 0.6066 - accuracy: 0.7109 - lr: 0.0010\n",
            "Epoch 12/30\n",
            "24/24 [==============================] - 0s 2ms/step - loss: 0.5896 - accuracy: 0.7122 - lr: 0.0010\n",
            "Epoch 13/30\n",
            "24/24 [==============================] - 0s 2ms/step - loss: 0.5690 - accuracy: 0.7240 - lr: 0.0010\n",
            "Epoch 14/30\n",
            "24/24 [==============================] - 0s 2ms/step - loss: 0.5686 - accuracy: 0.7292 - lr: 0.0010\n",
            "Epoch 15/30\n",
            "24/24 [==============================] - 0s 2ms/step - loss: 0.5666 - accuracy: 0.7331 - lr: 0.0010\n",
            "Epoch 16/30\n",
            "24/24 [==============================] - 0s 2ms/step - loss: 0.5621 - accuracy: 0.7305 - lr: 0.0010\n",
            "Epoch 17/30\n",
            "24/24 [==============================] - 0s 2ms/step - loss: 0.5659 - accuracy: 0.7474 - lr: 0.0010\n",
            "Epoch 18/30\n",
            "24/24 [==============================] - 0s 2ms/step - loss: 0.5693 - accuracy: 0.7344 - lr: 0.0010\n",
            "Epoch 19/30\n",
            "24/24 [==============================] - 0s 2ms/step - loss: 0.5543 - accuracy: 0.7513 - lr: 0.0010\n",
            "Epoch 20/30\n",
            "24/24 [==============================] - 0s 2ms/step - loss: 0.5610 - accuracy: 0.7292 - lr: 0.0010\n",
            "Epoch 21/30\n",
            "24/24 [==============================] - 0s 2ms/step - loss: 0.5520 - accuracy: 0.7552 - lr: 1.0000e-04\n",
            "Epoch 22/30\n",
            "24/24 [==============================] - 0s 2ms/step - loss: 0.5472 - accuracy: 0.7578 - lr: 1.0000e-04\n",
            "Epoch 23/30\n",
            "24/24 [==============================] - 0s 2ms/step - loss: 0.5463 - accuracy: 0.7500 - lr: 1.0000e-04\n",
            "Epoch 24/30\n",
            "24/24 [==============================] - 0s 2ms/step - loss: 0.5467 - accuracy: 0.7526 - lr: 1.0000e-04\n",
            "Epoch 25/30\n",
            "24/24 [==============================] - 0s 2ms/step - loss: 0.5463 - accuracy: 0.7526 - lr: 1.0000e-04\n",
            "Epoch 26/30\n",
            "24/24 [==============================] - 0s 2ms/step - loss: 0.5465 - accuracy: 0.7500 - lr: 1.0000e-04\n",
            "Epoch 27/30\n",
            "24/24 [==============================] - 0s 2ms/step - loss: 0.5470 - accuracy: 0.7500 - lr: 1.0000e-04\n",
            "Epoch 28/30\n",
            "24/24 [==============================] - 0s 2ms/step - loss: 0.5479 - accuracy: 0.7513 - lr: 1.0000e-04\n",
            "Epoch 29/30\n",
            "24/24 [==============================] - 0s 2ms/step - loss: 0.5463 - accuracy: 0.7565 - lr: 1.0000e-04\n",
            "Epoch 30/30\n",
            "24/24 [==============================] - 0s 2ms/step - loss: 0.5458 - accuracy: 0.7539 - lr: 1.0000e-04\n"
          ]
        }
      ]
    },
    {
      "cell_type": "code",
      "source": [
        "import pandas as pd\n",
        "import numpy as np\n",
        "import tensorflow as tf\n",
        "from tensorflow.keras.models import Sequential\n",
        "from tensorflow.keras.layers import Dense\n",
        "from tensorflow.keras.optimizers import Adam\n",
        "from sklearn.model_selection import train_test_split\n",
        "\n",
        "# Load the Pima Indians Diabetes Database\n",
        "url = \"https://raw.githubusercontent.com/Rumaizakosar/Eight-Puzzle-Code/main/diabetes.csv\"\n",
        "DP = pd.read_csv(url)\n",
        "\n",
        "# Split features (X) and target variable (y)\n",
        "X = DP.drop('Outcome', axis=1)\n",
        "y = DP['Outcome']\n",
        "\n",
        "# Split the dataset into training and testing sets (80% train, 20% test)\n",
        "X_train, X_test, y_train, y_test = train_test_split(X, y, test_size=0.2, random_state=42)\n",
        "\n",
        "# Define a function to create the model\n",
        "def create_model(hidden_layers, neurons):\n",
        "    model = Sequential()\n",
        "    model.add(Dense(neurons, activation='relu', input_shape=(X_train.shape[1],)))\n",
        "    for _ in range(hidden_layers - 1):\n",
        "        model.add(Dense(neurons, activation='relu'))\n",
        "    model.add(Dense(1, activation='sigmoid'))\n",
        "    optimizer = Adam(learning_rate=0.01)\n",
        "    model.compile(optimizer=optimizer, loss='binary_crossentropy', metrics=['accuracy'])\n",
        "    return model\n",
        "\n",
        "# Define a list of configurations for hidden layers and neurons\n",
        "configurations = [(1, 8), (1, 16), (2, 8), (2, 16)]  # (hidden layers, neurons)\n",
        "\n",
        "# Train and evaluate models for each configuration\n",
        "results = {}\n",
        "for hidden_layers, neurons in configurations:\n",
        "    print(f\"Training model with {hidden_layers} hidden layer(s) and {neurons} neuron(s)...\")\n",
        "    model = create_model(hidden_layers, neurons)\n",
        "    history = model.fit(X_train, y_train, epochs=30, batch_size=32, verbose=0)\n",
        "    _, accuracy = model.evaluate(X_test, y_test, verbose=0)\n",
        "    results[(hidden_layers, neurons)] = accuracy\n",
        "\n",
        "# Print results\n",
        "print(\"\\nResults:\")\n",
        "for config, accuracy in results.items():\n",
        "    print(f\"Configuration: {config}, Accuracy: {accuracy:.4f}\")\n"
      ],
      "metadata": {
        "colab": {
          "base_uri": "https://localhost:8080/"
        },
        "id": "Hu2RqTPLhW3B",
        "outputId": "551d653b-6d35-4710-b286-567489926114"
      },
      "execution_count": null,
      "outputs": [
        {
          "output_type": "stream",
          "name": "stdout",
          "text": [
            "Training model with 1 hidden layer(s) and 8 neuron(s)...\n",
            "Training model with 1 hidden layer(s) and 16 neuron(s)...\n",
            "Training model with 2 hidden layer(s) and 8 neuron(s)...\n",
            "Training model with 2 hidden layer(s) and 16 neuron(s)...\n",
            "\n",
            "Results:\n",
            "Configuration: (1, 8), Accuracy: 0.7273\n",
            "Configuration: (1, 16), Accuracy: 0.7078\n",
            "Configuration: (2, 8), Accuracy: 0.6558\n",
            "Configuration: (2, 16), Accuracy: 0.6948\n"
          ]
        }
      ]
    }
  ]
}