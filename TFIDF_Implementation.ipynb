{
  "nbformat": 4,
  "nbformat_minor": 0,
  "metadata": {
    "colab": {
      "provenance": [],
      "authorship_tag": "ABX9TyPCmn/YNDk3tkSpqL5CvmY/",
      "include_colab_link": true
    },
    "kernelspec": {
      "name": "python3",
      "display_name": "Python 3"
    },
    "language_info": {
      "name": "python"
    }
  },
  "cells": [
    {
      "cell_type": "markdown",
      "metadata": {
        "id": "view-in-github",
        "colab_type": "text"
      },
      "source": [
        "<a href=\"https://colab.research.google.com/github/Rumaizakosar/Eight-Puzzle-Code/blob/main/TFIDF_Implementation.ipynb\" target=\"_parent\"><img src=\"https://colab.research.google.com/assets/colab-badge.svg\" alt=\"Open In Colab\"/></a>"
      ]
    },
    {
      "cell_type": "code",
      "source": [
        "import numpy as np\n",
        "from collections import defaultdict, Counter\n",
        "import math\n",
        "from sklearn.preprocessing import normalize\n",
        "from sklearn.feature_extraction.text import CountVectorizer, TfidfTransformer\n",
        "from typing import List\n",
        "\n",
        "### Enter your Name ID in below variables. They must be strings.\n",
        "ID = \"1191609\"\n",
        "NAME = \"Sama Samrin\""
      ],
      "metadata": {
        "id": "W2GI0nuQwIE7"
      },
      "execution_count": 8,
      "outputs": []
    },
    {
      "cell_type": "code",
      "source": [
        "class CustomTFIDF:\n",
        "    def __init__(self, data: List[List[str]]):\n",
        "        #data is a list of lists which consists of words. For example = [[\"it\", \"consist\", \"of\", \"words\"]]\n",
        "        self.data = data\n",
        "        #Map to store words to indexes in the vocab.\n",
        "        self.word_to_index = {}\n",
        "        #Map to store inverse document frequency for each unique word in vocab.\n",
        "        self.idfs_ = {}\n",
        "        #Vocab stores all the unique words in the dataset.\n",
        "        self.vocab = set()\n",
        "\n",
        "    def _build_vocab(self):\n",
        "        \"\"\"Method to build vocabulary. Vocabulary is a list of unique words in the dataset and it is alphabetically sorted.\n",
        "        Hint: Use the self.vocab to store unique words\n",
        "        Note: Include only words whose length is >= 2\n",
        "        \"\"\"\n",
        "        corpus = self.data\n",
        "        words = set()\n",
        "        #print(\"corpus : \", corpus)\n",
        "\n",
        "        for i in range(len(corpus)):\n",
        "          #print(\"i: \", i)\n",
        "          for j in range(len(corpus[i])):\n",
        "            x = corpus[i][j-1].split(\" \")\n",
        "            for k in range(len(x)):\n",
        "              if x[k] not in words and len(x[k])>=2:\n",
        "                words.add(x[k])\n",
        "\n",
        "        #print(words)\n",
        "        self.vocab = words\n",
        "        #Implement your logic above this line\n",
        "        #Do not modify the below line\n",
        "        self.vocab = sorted(list(self.vocab))\n",
        "\n",
        "    def create_index_map(self):\n",
        "        \"\"\"Method to map every word to its index in the vocabulary\n",
        "        Hint: Iterate over the vocabulary and store them in word_to_index\n",
        "        \"\"\"\n",
        "        #Implement the logic below this line\n",
        "        words = self.vocab\n",
        "        word_to_index = dict.fromkeys(words)\n",
        "        count = 0\n",
        "\n",
        "        for i in words:\n",
        "            word_to_index[i] = count\n",
        "            count += 1\n",
        "\n",
        "        self.word_to_index = word_to_index\n",
        "\n",
        "    def calculate_idfs(self):\n",
        "        \"\"\"Method to calculate inverse document frequency. Use the below formula to calculate inverse document frequency\n",
        "        **for assignment 4, use this formula to calculate idfs (the previous one had the wrong brackets.) :**\n",
        "        idf = 1.0 + math.log[(1+length of data) / (1+number of documents with the term)]**\n",
        "        **The formula in the code file is missing a bracket. This formula will ensure you won't run into ZeroDivisionErrors.**\n",
        "        Reference: http://www.tfidf.com/\n",
        "        Hint: Iterate over the vocab and check if word occurs in sentence. Count the occurence and store them in self.idfs_ dictionary.\n",
        "        \"\"\"\n",
        "\n",
        "        #implement your logic below this line\n",
        "        words = self.vocab\n",
        "        corpus = self.data\n",
        "        self.idfs_= dict.fromkeys(words, 0)\n",
        "        #print(\"idfs map:\", self.idfs_)\n",
        "        #total_num_of_terms_in_doc = len(words)\n",
        "\n",
        "        #calculating total number of words in the entire corpus\n",
        "        total_num_of_terms_in_doc = 0\n",
        "        for i in range(len(corpus)):\n",
        "          total_num_of_terms_in_doc += len(corpus[i])\n",
        "        print(\"Total number of words in the entire corpus =\", total_num_of_terms_in_doc)\n",
        "        #i = 0\n",
        "\n",
        "        # IDF = how many documents have the word\n",
        "        number_of_docs_that_contain_the_word = dict.fromkeys(words,0)\n",
        "\n",
        "        for word in words:\n",
        "          number_of_docs_with_the_word = 0\n",
        "          for doc in corpus:\n",
        "            if word in doc:\n",
        "              #print(word, \"is in\", doc)\n",
        "              number_of_docs_that_contain_the_word[word] += 1\n",
        "            self.idfs_[word] = math.log(((len(corpus)+1)/(1+number_of_docs_that_contain_the_word[word]))) + 1.0\n",
        "\n",
        "        #counting idfs\n",
        "\n",
        "        # total_number_of_documents = len(corpus)\n",
        "        # for word in words:\n",
        "        #   #print(\"word=\", word)\n",
        "        #   print(\"total_number_of_documents =\", total_number_of_documents, \"number_of_docs_that_contain_the_word = \", number_of_docs_that_contain_the_word[word])\n",
        "        #   log_val = math.log(((total_number_of_documents+1)/(1+number_of_docs_that_contain_the_word[word])), 2)\n",
        "        #   print(\"log value =\", log_val, \"for word=\", word)\n",
        "        #   idf_ = 1.0 + log_val\n",
        "        #   print(\"idf of\", word,\"is\", idf_)\n",
        "        #   self.idfs_[word] = idf_\n",
        "\n",
        "        # for word in words:\n",
        "        #   for i in range(len(corpus)):\n",
        "        #     #print(\"i=\", i, \", corpus[i] length = \", len(corpus[i]), \", values = \", corpus[i])\n",
        "        #     freq = corpus[i].count(word)\n",
        "        #     #print(\"*\", word, \"* appears\", freq, \"times in\", corpus[i])\n",
        "        #     self.idfs_[word] += freq\n",
        "        #     #print(\"frequency of \", word, \"in idfs :\", idfs[word])\n",
        "        #   #print(\"frequency of \", word, \"in idfs :\", self.idfs_[word])\n",
        "        #     #for j in range(len(corpus[i])):\n",
        "        #       #print(\"i=\", i, \"j=\", j, \"corpus[i][j] length = \", len(corpus[i][j]))\n",
        "        #       #if word == corpus[i][j]:\n",
        "\n",
        "        print(\"idfs map:\", self.idfs_)\n",
        "\n",
        "    def tfidf(self, input_sent: List[str]) -> np.ndarray:\n",
        "        \"\"\"Method which accepts input_sent of the form : [\"is\", \"this\", \"a\", \"sent\"].\n",
        "        Task:\n",
        "            Implement the tfidf approach for the above input.\n",
        "            This function should return a vector of counts for the given inputs.\n",
        "            The output shape of the vector should be 1 x len(self.vocab)\n",
        "            The output should be a numpy array\n",
        "            Example:\n",
        "                length of vocabulary = 10\n",
        "                input_sent = [\"is\", \"this\", \"a\", \"sent\"]\n",
        "                The method should return a vector of shape 1 x 10.\n",
        "            Formula:\n",
        "                TF(t) = (Number of times word t appears in a document) / (Total number of words in the document).\n",
        "                IDF will already be calculated and stored in self.idfs_ variable.\n",
        "        \"\"\"\n",
        "\n",
        "        #Implement your logic below this line\n",
        "        #input_sent = [\"is\", \"this\", \"a\", \"sent\"]\n",
        "        words = self.vocab\n",
        "        vector_shape = (1, len(words))\n",
        "        #print(\"vector shape =\", vector_shape)\n",
        "        vector = np.zeros(vector_shape, dtype=float)\n",
        "        #print(vector)\n",
        "\n",
        "        for word in input_sent:\n",
        "          #print(\"word =\", word)\n",
        "          if word not in words:\n",
        "            input_index = np.where(input_sent == word)\n",
        "            #print(\"OOV error with the word: *\", word)\n",
        "          elif word in self.word_to_index:\n",
        "            #print(\"idfs[word] for\", word, \"is\", idfs[word])\n",
        "            #tf = self.idfs_[word]/len(input_sent)\n",
        "            count = input_sent.count(word)\n",
        "            tf = count/len(input_sent)\n",
        "            #print(\"Term Frequency for\", word, \"is\", tf)\n",
        "            #input_index = np.where(input_sent == word)\n",
        "            #print(i, \"found at input index =\", input_index)\n",
        "            indx = self.word_to_index[word] #getting index of i (word of input_sent) from our index map\n",
        "            #print(\"the word is mapped at indx =\", indx)\n",
        "            #print(\"vector shape = \", vector.shape)\n",
        "            #print(\"inside if\", \"vector[0][indx] =\", vector[0][indx])\n",
        "            vector[0][indx] = tf * self.idfs_[word]\n",
        "            #print(\"count=\", count, \"TF=\", tf, \"IDF=\", self.idfs_[word], \"vector value=\", vector[0][indx])\n",
        "\n",
        "        print(vector)\n",
        "        return vector[0]\n",
        "\n",
        "    def create_vector(self):\n",
        "        #Do not modify this function\n",
        "        #hint: if you understand this function, you will understand what steps you will need to implement first.\n",
        "        self._build_vocab()\n",
        "        self.create_index_map()\n",
        "        self.calculate_idfs()\n",
        "        vector = []\n",
        "        for sent in self.data:\n",
        "            sent_vector = self.tfidf(sent)\n",
        "            vector.append(sent_vector)\n",
        "        vector = np.array(vector)\n",
        "        vector = normalize(vector)\n",
        "        return vector"
      ],
      "metadata": {
        "id": "p_oqxBYzwJhG"
      },
      "execution_count": 9,
      "outputs": []
    },
    {
      "cell_type": "markdown",
      "source": [
        "**My Attempts**"
      ],
      "metadata": {
        "id": "LpJc7BxhwOZC"
      }
    },
    {
      "cell_type": "code",
      "source": [
        "corpus = [[\"this\", \"is\", \"a\", \"document\"], [\"this\", \"is\", \"a\", \"processed\", \"document\"], [\"is\", \"this\", \"a\", \"document\"], [\"this\", \"is\", \"not\", \"a\", \"document\"]]\n"
      ],
      "metadata": {
        "id": "zjD392jhwLfT"
      },
      "execution_count": 10,
      "outputs": []
    },
    {
      "cell_type": "markdown",
      "source": [
        "**Building vocab**"
      ],
      "metadata": {
        "id": "d43lsjvewaji"
      }
    },
    {
      "cell_type": "code",
      "source": [
        "#building vocab\n",
        "words = set()\n",
        "        #print(\"corpus : \", corpus)\n",
        "\n",
        "for i in range(len(corpus)):\n",
        "  #print(\"i: \", i)\n",
        "  for j in range(len(corpus[i])):\n",
        "    x = corpus[i][j-1].split(\" \")\n",
        "    for k in range(len(x)):\n",
        "      if x[k] not in words and len(x[k])>=2:\n",
        "        words.add(x[k])\n",
        "print(words)\n"
      ],
      "metadata": {
        "colab": {
          "base_uri": "https://localhost:8080/"
        },
        "id": "uvP6vewKwcmM",
        "outputId": "5dcdd1cd-f2af-4392-b0ff-a1b39b1a4c9e"
      },
      "execution_count": 11,
      "outputs": [
        {
          "output_type": "stream",
          "name": "stdout",
          "text": [
            "{'not', 'document', 'is', 'processed', 'this'}\n"
          ]
        }
      ]
    },
    {
      "cell_type": "markdown",
      "source": [
        "**Word to index**"
      ],
      "metadata": {
        "id": "GTRQue23wgGh"
      }
    },
    {
      "cell_type": "code",
      "source": [
        "#word to index\n",
        "word_to_index = dict.fromkeys(words)\n",
        "count = 0\n",
        "\n",
        "for i in words:\n",
        "    word_to_index[i] = count\n",
        "    count += 1\n",
        "\n",
        "print(word_to_index)"
      ],
      "metadata": {
        "colab": {
          "base_uri": "https://localhost:8080/"
        },
        "id": "VMOAM-5jwipf",
        "outputId": "e1d18708-0790-47ef-9a6b-05f1b31daff8"
      },
      "execution_count": 12,
      "outputs": [
        {
          "output_type": "stream",
          "name": "stdout",
          "text": [
            "{'not': 0, 'document': 1, 'is': 2, 'processed': 3, 'this': 4}\n"
          ]
        }
      ]
    },
    {
      "cell_type": "markdown",
      "source": [
        "**IDF calculation**"
      ],
      "metadata": {
        "id": "lDeIN-PCwl9K"
      }
    },
    {
      "cell_type": "code",
      "source": [
        "idfs = dict.fromkeys(words, 0)\n",
        "print(\"idfs map:\", idfs)\n",
        "total_num_of_terms_in_doc = len(words)"
      ],
      "metadata": {
        "colab": {
          "base_uri": "https://localhost:8080/"
        },
        "id": "LG-4YiVewoIy",
        "outputId": "045d449a-e11c-49a9-e616-eb9ad4e10b93"
      },
      "execution_count": 13,
      "outputs": [
        {
          "output_type": "stream",
          "name": "stdout",
          "text": [
            "idfs map: {'not': 0, 'document': 0, 'is': 0, 'processed': 0, 'this': 0}\n"
          ]
        }
      ]
    },
    {
      "cell_type": "code",
      "source": [
        "# IDF = how many documents have the word\n",
        "\n",
        "number_of_docs_that_contain_the_word = dict.fromkeys(words,0)\n",
        "\n",
        "for word in words:\n",
        "  number_of_docs_with_the_word = 0\n",
        "  for doc in corpus:\n",
        "    if word in doc:\n",
        "     #print(word, \"is in\", doc)\n",
        "     number_of_docs_that_contain_the_word[word] += 1\n",
        "\n",
        "print(number_of_docs_that_contain_the_word)"
      ],
      "metadata": {
        "colab": {
          "base_uri": "https://localhost:8080/"
        },
        "id": "IJ7vmdeYwqre",
        "outputId": "e02711a4-a5ba-4f3b-fa1f-7365faff1c41"
      },
      "execution_count": 14,
      "outputs": [
        {
          "output_type": "stream",
          "name": "stdout",
          "text": [
            "{'not': 1, 'document': 4, 'is': 4, 'processed': 1, 'this': 4}\n"
          ]
        }
      ]
    },
    {
      "cell_type": "code",
      "source": [
        "#counting idfs\n",
        "\n",
        "total_number_of_documents = len(corpus)\n",
        "for word in words:\n",
        "  #print(\"word=\", word)\n",
        "  print(\"total_number_of_documents =\", total_number_of_documents, \"number_of_docs_that_contain_the_word = \", number_of_docs_that_contain_the_word[word])\n",
        "  log_val = math.log(((total_number_of_documents)/(1+number_of_docs_that_contain_the_word[word])), 10)\n",
        "  print(\"log value =\", log_val, \"for word=\", word)\n",
        "  idf_ = 1.0 + log_val\n",
        "  print(\"idf of\", word,\"is\", idf_)\n",
        "  idfs[word] = idf_\n",
        "\n",
        "print(idfs)"
      ],
      "metadata": {
        "colab": {
          "base_uri": "https://localhost:8080/"
        },
        "id": "-C3bdeUxwumv",
        "outputId": "321f7174-d167-464a-8e07-46ddb8265e7d"
      },
      "execution_count": 15,
      "outputs": [
        {
          "output_type": "stream",
          "name": "stdout",
          "text": [
            "total_number_of_documents = 4 number_of_docs_that_contain_the_word =  1\n",
            "log value = 0.30102999566398114 for word= not\n",
            "idf of not is 1.3010299956639813\n",
            "total_number_of_documents = 4 number_of_docs_that_contain_the_word =  4\n",
            "log value = -0.09691001300805638 for word= document\n",
            "idf of document is 0.9030899869919436\n",
            "total_number_of_documents = 4 number_of_docs_that_contain_the_word =  4\n",
            "log value = -0.09691001300805638 for word= is\n",
            "idf of is is 0.9030899869919436\n",
            "total_number_of_documents = 4 number_of_docs_that_contain_the_word =  1\n",
            "log value = 0.30102999566398114 for word= processed\n",
            "idf of processed is 1.3010299956639813\n",
            "total_number_of_documents = 4 number_of_docs_that_contain_the_word =  4\n",
            "log value = -0.09691001300805638 for word= this\n",
            "idf of this is 0.9030899869919436\n",
            "{'not': 1.3010299956639813, 'document': 0.9030899869919436, 'is': 0.9030899869919436, 'processed': 1.3010299956639813, 'this': 0.9030899869919436}\n"
          ]
        }
      ]
    },
    {
      "cell_type": "code",
      "source": [
        "for word in words:\n",
        "  occurrence_of_word_in_whole_doc = 0\n",
        "  for i in range(len(corpus)):\n",
        "    #print(\"i=\", i, \", corpus[i] length = \", len(corpus[i]), \", values = \", corpus[i])\n",
        "    freq = corpus[i].count(word)\n",
        "    #print(\"*\", word, \"* appears\", freq, \"times in\", corpus[i])\n",
        "    occurrence_of_word_in_whole_doc += freq\n",
        "    #print(\"frequency of \", word, \"in idfs :\", idfs[word])\n",
        "  print(\"occurrence of \", word, \"in entire doc :\", occurrence_of_word_in_whole_doc)\n",
        "    #for j in range(len(corpus[i])):\n",
        "      #print(\"i=\", i, \"j=\", j, \"corpus[i][j] length = \", len(corpus[i][j]))\n",
        "      #if word == corpus[i][j]:\n",
        "\n",
        "print(idfs)"
      ],
      "metadata": {
        "colab": {
          "base_uri": "https://localhost:8080/"
        },
        "id": "DhzXQ8IAwxZZ",
        "outputId": "71d6bd24-c247-4b71-cbfa-9f5e7953c0fb"
      },
      "execution_count": 16,
      "outputs": [
        {
          "output_type": "stream",
          "name": "stdout",
          "text": [
            "occurrence of  not in entire doc : 1\n",
            "occurrence of  document in entire doc : 4\n",
            "occurrence of  is in entire doc : 4\n",
            "occurrence of  processed in entire doc : 1\n",
            "occurrence of  this in entire doc : 4\n",
            "{'not': 1.3010299956639813, 'document': 0.9030899869919436, 'is': 0.9030899869919436, 'processed': 1.3010299956639813, 'this': 0.9030899869919436}\n"
          ]
        }
      ]
    },
    {
      "cell_type": "code",
      "source": [
        "import math\n",
        "\n",
        "# Sample corpus\n",
        "corpus = [\n",
        "    \"this is a sample text\",\n",
        "    \"another sample text for TF-IDF\",\n",
        "    \"text mining and information retrieval\",\n",
        "]\n",
        "\n",
        "# Tokenize and get the unique words\n",
        "words = set(word for doc in corpus for word in doc.split())\n",
        "\n",
        "# Initialize IDFs dictionary\n",
        "idfs = dict.fromkeys(words, 0)\n",
        "\n",
        "# Calculate IDF for each word\n",
        "for word in words:\n",
        "    for doc in corpus:\n",
        "        if word in doc.split():\n",
        "            idfs[word] += 1\n",
        "\n",
        "total_docs = len(corpus)\n",
        "for word in idfs:\n",
        "    idfs[word] = 1.0 + math.log((1 + total_docs) / (1 + idfs[word]))\n",
        "\n",
        "print(\"IDFs:\", idfs)\n"
      ],
      "metadata": {
        "colab": {
          "base_uri": "https://localhost:8080/"
        },
        "id": "Q5wfi_erw0x0",
        "outputId": "05ce40ec-5054-4656-95ac-612c93e88582"
      },
      "execution_count": 18,
      "outputs": [
        {
          "output_type": "stream",
          "name": "stdout",
          "text": [
            "IDFs: {'for': 1.6931471805599454, 'text': 1.0, 'another': 1.6931471805599454, 'retrieval': 1.6931471805599454, 'information': 1.6931471805599454, 'is': 1.6931471805599454, 'and': 1.6931471805599454, 'sample': 1.2876820724517808, 'a': 1.6931471805599454, 'mining': 1.6931471805599454, 'this': 1.6931471805599454, 'TF-IDF': 1.6931471805599454}\n"
          ]
        }
      ]
    },
    {
      "cell_type": "markdown",
      "source": [
        "**TF-IDF calculation**"
      ],
      "metadata": {
        "id": "0HOpkzVww4xx"
      }
    },
    {
      "cell_type": "code",
      "source": [
        "\"\"\"Method which accepts input_sent of the form : [\"is\", \"this\", \"a\", \"sent\"].\n",
        "        Task:\n",
        "            Implement the tfidf approach for the above input.\n",
        "            This function should return a vector of counts for the given inputs.\n",
        "            The output shape of the vector should be 1 x len(self.vocab)\n",
        "            The output should be a numpy array\n",
        "            Example:\n",
        "                length of vocabulary = 10\n",
        "                input_sent = [\"is\", \"this\", \"a\", \"sent\"]\n",
        "                The method should return a vector of shape 1 x 10.\n",
        "            Formula:\n",
        "                TF(t) = (Number of times word t appears in a document) / (Total number of words in the document).\n",
        "                IDF will already be calculated and stored in self.idfs_ variable.\n",
        "        \"\"\""
      ],
      "metadata": {
        "colab": {
          "base_uri": "https://localhost:8080/",
          "height": 91
        },
        "id": "BcFjQnxww66E",
        "outputId": "a1821ae3-f1d5-49ee-ab4f-d8cf81dbb1e8"
      },
      "execution_count": 19,
      "outputs": [
        {
          "output_type": "execute_result",
          "data": {
            "text/plain": [
              "'Method which accepts input_sent of the form : [\"is\", \"this\", \"a\", \"sent\"].\\n        Task:\\n            Implement the tfidf approach for the above input. \\n            This function should return a vector of counts for the given inputs.\\n            The output shape of the vector should be 1 x len(self.vocab)\\n            The output should be a numpy array\\n            Example:\\n                length of vocabulary = 10\\n                input_sent = [\"is\", \"this\", \"a\", \"sent\"]\\n                The method should return a vector of shape 1 x 10.\\n            Formula:\\n                TF(t) = (Number of times word t appears in a document) / (Total number of words in the document).\\n                IDF will already be calculated and stored in self.idfs_ variable.\\n        '"
            ],
            "application/vnd.google.colaboratory.intrinsic+json": {
              "type": "string"
            }
          },
          "metadata": {},
          "execution_count": 19
        }
      ]
    },
    {
      "cell_type": "code",
      "source": [
        "input_sent = [\"is\", \"this\", \"a\", \"sent\"]\n",
        "\n",
        "vector_shape = (1, len(words))\n",
        "print(\"vector shape =\", vector_shape)\n",
        "vector = np.zeros(vector_shape, dtype=float)\n",
        "print(vector)\n",
        "\n",
        "for word in input_sent:\n",
        "  print(\"word =\", word)\n",
        "  if word not in words:\n",
        "    input_index = np.where(input_sent == word)\n",
        "    print(\"OOV error with the word: *\", word, \"* at \", input_index[0])\n",
        "  elif word in word_to_index:\n",
        "    print(\"idfs[word] for\", word, \"is\", idfs[word])\n",
        "    # TF(t) = (Number of times word t appears in a document) / (Total number of words in the document).\n",
        "    tf = input_sent.count(word) / len(input_sent)\n",
        "    #tf = idfs[word]/len(input_sent)\n",
        "    print(\"Term Frequency for\", word, \"is\", tf)\n",
        "    #input_index = np.where(input_sent == word)\n",
        "    #print(i, \"found at input index =\", input_index)\n",
        "    indx = word_to_index[word] #getting index of i (word of input_sent) from our index map\n",
        "    #print(\"the word is mapped at indx =\", indx)\n",
        "    #print(\"vector shape = \", vector.shape)\n",
        "    #print(\"inside if\", \"vector[0][indx] =\", vector[0][indx])\n",
        "    vector[0][indx] = tf * idfs[word]\n",
        "\n",
        "print(vector)\n",
        "#vector = vector[0]"
      ],
      "metadata": {
        "colab": {
          "base_uri": "https://localhost:8080/"
        },
        "id": "-UjzMLY-w-0n",
        "outputId": "77c9b23b-21b8-42ee-ecf1-fe7abd16e90d"
      },
      "execution_count": 20,
      "outputs": [
        {
          "output_type": "stream",
          "name": "stdout",
          "text": [
            "vector shape = (1, 12)\n",
            "[[0. 0. 0. 0. 0. 0. 0. 0. 0. 0. 0. 0.]]\n",
            "word = is\n",
            "idfs[word] for is is 1.6931471805599454\n",
            "Term Frequency for is is 0.25\n",
            "word = this\n",
            "idfs[word] for this is 1.6931471805599454\n",
            "Term Frequency for this is 0.25\n",
            "word = a\n",
            "word = sent\n",
            "OOV error with the word: * sent * at  []\n",
            "[[0.        0.        0.4232868 0.        0.4232868 0.        0.\n",
            "  0.        0.        0.        0.        0.       ]]\n"
          ]
        },
        {
          "output_type": "stream",
          "name": "stderr",
          "text": [
            "<ipython-input-20-21f5c67502f8>:11: DeprecationWarning: Calling nonzero on 0d arrays is deprecated, as it behaves surprisingly. Use `atleast_1d(cond).nonzero()` if the old behavior was intended. If the context of this warning is of the form `arr[nonzero(cond)]`, just use `arr[cond]`.\n",
            "  input_index = np.where(input_sent == word)\n"
          ]
        }
      ]
    },
    {
      "cell_type": "markdown",
      "source": [
        "**Excess**"
      ],
      "metadata": {
        "id": "BO3n4vnsxCMA"
      }
    },
    {
      "cell_type": "code",
      "source": [
        "\n",
        "\n",
        "# for word in words:\n",
        "#   count = 0\n",
        "#  #index for 1st array of 2D corpus\n",
        "#   print(\"i=\", i)\n",
        "#   while i<len(corpus):\n",
        "#     j = 0\n",
        "#     #print(\"i=\", i, \"j=\", j, \"corpus[i] length = \", len(corpus[i]))\n",
        "#     while j<len(corpus[i]):\n",
        "#       #print(corpus[i][j])\n",
        "#       if corpus[i][j] in words:\n",
        "\n",
        "#       j+=1\n",
        "#     i+=1\n",
        "\n",
        "x = math.log(1+len(corpus))\n",
        "y = 1 + x\n",
        "idf = 1.0 + x/y\n",
        "\n",
        "# idf = 1.0 + math.log[(1+length of data) / (1+number of documents with the term)]\n",
        "#**The formula in the code file is missing a bracket. This formula will ensure you won't run into ZeroDivisionErrors.**\n",
        "#Reference: http://www.tfidf.com/\n",
        "#Hint: Iterate over the vocab and check if word occurs in sentence. Count the occurence and store them in self.idfs_ dictionary.'''"
      ],
      "metadata": {
        "id": "_iuG4zrAxDfu"
      },
      "execution_count": 21,
      "outputs": []
    },
    {
      "cell_type": "markdown",
      "source": [
        "**SkLearn Output**"
      ],
      "metadata": {
        "id": "3_RwG9DqxHas"
      }
    },
    {
      "cell_type": "code",
      "source": [
        "from sklearn.feature_extraction.text import CountVectorizer, TfidfTransformer\n",
        "import math\n",
        "\n",
        "# Sample corpus as list of strings\n",
        "corpus = [\"this is a document\",\n",
        "          \"this is a processed document\",\n",
        "          \"is this a document\",\n",
        "          \"this is not a document\"]\n",
        "\n",
        "# Custom TF-IDF implementation\n",
        "class CustomTFIDF:\n",
        "    def __init__(self, corpus):\n",
        "        self.corpus = [doc.split() for doc in corpus]\n",
        "        self.words = set(word for doc in self.corpus for word in doc)\n",
        "        self.idfs = self.calculate_idfs()\n",
        "\n",
        "    def calculate_idfs(self):\n",
        "        idfs = dict.fromkeys(self.words, 0)\n",
        "        total_docs = len(self.corpus)\n",
        "        for word in self.words:\n",
        "            doc_count = sum(1 for doc in self.corpus if word in doc)\n",
        "            idfs[word] = 1.0 + math.log((1 + total_docs) / (1 + doc_count))\n",
        "        return idfs\n",
        "\n",
        "custom_tfidf = CustomTFIDF(corpus)\n",
        "print(\"Custom IDFs:\", custom_tfidf.idfs)\n",
        "\n",
        "# sklearn implementation\n",
        "vectorizer = CountVectorizer()\n",
        "sklearn_counts = vectorizer.fit_transform(corpus)\n",
        "tfidf_transformer = TfidfTransformer()\n",
        "sklearn_tfidf = tfidf_transformer.fit_transform(sklearn_counts).toarray()\n",
        "\n",
        "print(\"sklearn TF-IDF:\\n\", sklearn_tfidf)\n"
      ],
      "metadata": {
        "colab": {
          "base_uri": "https://localhost:8080/"
        },
        "id": "x2z2BOUsxJMq",
        "outputId": "161803cb-95d5-4ef5-bdbb-bd506ee842b5"
      },
      "execution_count": 23,
      "outputs": [
        {
          "output_type": "stream",
          "name": "stdout",
          "text": [
            "Custom IDFs: {'not': 1.916290731874155, 'document': 1.0, 'is': 1.0, 'processed': 1.916290731874155, 'a': 1.0, 'this': 1.0}\n",
            "sklearn TF-IDF:\n",
            " [[0.57735027 0.57735027 0.         0.         0.57735027]\n",
            " [0.38713857 0.38713857 0.         0.74187006 0.38713857]\n",
            " [0.57735027 0.57735027 0.         0.         0.57735027]\n",
            " [0.38713857 0.38713857 0.74187006 0.         0.38713857]]\n"
          ]
        }
      ]
    },
    {
      "cell_type": "code",
      "source": [
        "import math\n",
        "import numpy as np\n",
        "\n",
        "class CustomTFIDF:\n",
        "    def __init__(self, corpus):\n",
        "        # Convert list of lists to list of strings if needed\n",
        "        if isinstance(corpus[0], list):\n",
        "            self.corpus = [' '.join(doc) for doc in corpus]\n",
        "        else:\n",
        "            self.corpus = corpus\n",
        "\n",
        "        self.words = set(word for doc in self.corpus for word in doc.split())\n",
        "        self.idfs = self.calculate_idfs()\n",
        "\n",
        "    def calculate_idfs(self):\n",
        "        idfs = dict.fromkeys(self.words, 0)\n",
        "        total_docs = len(self.corpus)\n",
        "        for word in self.words:\n",
        "            doc_count = sum(1 for doc in self.corpus if word in doc.split())\n",
        "            idfs[word] = 1.0 + math.log((1 + total_docs) / (1 + doc_count))\n",
        "        return idfs\n",
        "\n",
        "    def create_vector(self):\n",
        "        tfidf_vectors = []\n",
        "        for doc in self.corpus:\n",
        "            tfidf_vector = []\n",
        "            word_list = doc.split()\n",
        "            word_count = len(word_list)\n",
        "            for word in self.words:\n",
        "                tf = word_list.count(word) / word_count\n",
        "                idf = self.idfs[word]\n",
        "                tfidf_vector.append(tf * idf)\n",
        "            tfidf_vectors.append(tfidf_vector)\n",
        "        return np.array(tfidf_vectors)\n",
        "\n",
        "# Sample corpus\n",
        "corpus = [[\"this\", \"is\", \"a\", \"document\"],\n",
        "          [\"this\", \"is\", \"a\", \"processed\", \"document\"],\n",
        "          [\"is\", \"this\", \"a\", \"document\"],\n",
        "          [\"this\", \"is\", \"not\", \"a\", \"document\"]]\n",
        "\n",
        "custom_tfidf = CustomTFIDF(corpus)\n",
        "custom_output = custom_tfidf.create_vector()\n",
        "print(\"Custom TF-IDF Output:\\n\", custom_output)\n"
      ],
      "metadata": {
        "colab": {
          "base_uri": "https://localhost:8080/"
        },
        "id": "gyhEI4K6xLsa",
        "outputId": "6fa79733-0963-4e51-d1ae-49c7a2d52fba"
      },
      "execution_count": 25,
      "outputs": [
        {
          "output_type": "stream",
          "name": "stdout",
          "text": [
            "Custom TF-IDF Output:\n",
            " [[0.         0.25       0.25       0.         0.25       0.25      ]\n",
            " [0.         0.2        0.2        0.38325815 0.2        0.2       ]\n",
            " [0.         0.25       0.25       0.         0.25       0.25      ]\n",
            " [0.38325815 0.2        0.2        0.         0.2        0.2       ]]\n"
          ]
        }
      ]
    },
    {
      "cell_type": "markdown",
      "source": [
        "**Main Test**"
      ],
      "metadata": {
        "id": "SM1mMfN4xPT5"
      }
    },
    {
      "cell_type": "code",
      "source": [
        "#Do not modify code below this. If this modified you will be given straight away 0.\n",
        "class testApproach:\n",
        "    def __init__(self):\n",
        "        self.original_corpus = [\"this is a document\", \"this is a processed document\", \"is this a document\", \"This is not a document\"]\n",
        "        self.corpus = self.process(self.original_corpus)\n",
        "        self.sklearn_bow = CountVectorizer()\n",
        "        self.sklearn_transformer = TfidfTransformer()\n",
        "        self.custom_tfidf = CustomTFIDF(self.corpus)\n",
        "\n",
        "    def process(self, corpus):\n",
        "        corpus = [x.lower() for x in corpus]\n",
        "        return [x.split() for x in corpus]\n",
        "\n",
        "    def testTFIDF(self):\n",
        "        sklearn_output = self.sklearn_bow.fit_transform(self.original_corpus)\n",
        "        sklearn_output = self.sklearn_transformer.fit_transform(sklearn_output).toarray()\n",
        "        print(\"Sklearn Output = \\n\", sklearn_output, \"\\n\")\n",
        "        custom_output = self.custom_tfidf.create_vector()\n",
        "        print(\"Our Output = \\n\", custom_output, \"\\n\")\n",
        "        try:\n",
        "            is_correct = np.allclose(sklearn_output, custom_output)\n",
        "        except:\n",
        "            is_correct = False\n",
        "        if is_correct is True:\n",
        "            print(f\"ID : {ID} | Name : {NAME} | ALL test cases passed.\")\n",
        "            print(\"====\"*20)\n",
        "        else:\n",
        "            print(f\"ID : {ID} | Name : {NAME} | ALL test cases Failed.\")\n",
        "            print(\"====\"*20)\n",
        "\n",
        "if __name__ == \"__main__\":\n",
        "    tester = testApproach()\n",
        "    tester.testTFIDF()"
      ],
      "metadata": {
        "colab": {
          "base_uri": "https://localhost:8080/"
        },
        "id": "qo7cJcCRxSfS",
        "outputId": "4c6678ea-df23-491f-e36a-1ac3a03ecb57"
      },
      "execution_count": 26,
      "outputs": [
        {
          "output_type": "stream",
          "name": "stdout",
          "text": [
            "Sklearn Output = \n",
            " [[0.57735027 0.57735027 0.         0.         0.57735027]\n",
            " [0.38713857 0.38713857 0.         0.74187006 0.38713857]\n",
            " [0.57735027 0.57735027 0.         0.         0.57735027]\n",
            " [0.38713857 0.38713857 0.74187006 0.         0.38713857]] \n",
            "\n",
            "Our Output = \n",
            " [[0.         0.25       0.25       0.         0.25       0.25      ]\n",
            " [0.         0.2        0.2        0.38325815 0.2        0.2       ]\n",
            " [0.         0.25       0.25       0.         0.25       0.25      ]\n",
            " [0.38325815 0.2        0.2        0.         0.2        0.2       ]] \n",
            "\n",
            "ID : 1191609 | Name : Sama Samrin | ALL test cases Failed.\n",
            "================================================================================\n"
          ]
        }
      ]
    }
  ]
}